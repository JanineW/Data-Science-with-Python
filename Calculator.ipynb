{
 "cells": [
  {
   "cell_type": "code",
   "execution_count": 1,
   "metadata": {
    "collapsed": true
   },
   "outputs": [],
   "source": [
    "import scipy.stats as st\n",
    "import numpy as np\n",
    "import pandas as pd\n",
    "import matplotlib.pyplot as plt\n",
    "from scipy.stats import multivariate_normal"
   ]
  },
  {
   "cell_type": "code",
   "execution_count": 2,
   "metadata": {
    "collapsed": false
   },
   "outputs": [
    {
     "data": {
      "text/plain": [
       "u'/Users/janinewei/Documents/GitHub/Data-Science-with-Python'"
      ]
     },
     "execution_count": 2,
     "metadata": {},
     "output_type": "execute_result"
    }
   ],
   "source": [
    "pwd"
   ]
  },
  {
   "cell_type": "code",
   "execution_count": 19,
   "metadata": {
    "collapsed": false
   },
   "outputs": [],
   "source": [
    "data = pd.read_csv('Data/Grade.csv')"
   ]
  },
  {
   "cell_type": "code",
   "execution_count": 20,
   "metadata": {
    "collapsed": false
   },
   "outputs": [
    {
     "data": {
      "text/html": [
       "<div>\n",
       "<style scoped>\n",
       "    .dataframe tbody tr th:only-of-type {\n",
       "        vertical-align: middle;\n",
       "    }\n",
       "\n",
       "    .dataframe tbody tr th {\n",
       "        vertical-align: top;\n",
       "    }\n",
       "\n",
       "    .dataframe thead th {\n",
       "        text-align: right;\n",
       "    }\n",
       "</style>\n",
       "<table border=\"1\" class=\"dataframe\">\n",
       "  <thead>\n",
       "    <tr style=\"text-align: right;\">\n",
       "      <th></th>\n",
       "      <th>Campus ID</th>\n",
       "      <th>Name</th>\n",
       "      <th>Quiz 1</th>\n",
       "      <th>Quiz 2</th>\n",
       "      <th>Quiz 3</th>\n",
       "      <th>Quiz 4</th>\n",
       "      <th>Midterm</th>\n",
       "      <th>Final exam</th>\n",
       "      <th>Grand Total</th>\n",
       "    </tr>\n",
       "  </thead>\n",
       "  <tbody>\n",
       "    <tr>\n",
       "      <th>0</th>\n",
       "      <td>9071987672</td>\n",
       "      <td>Battenberg,Jacob</td>\n",
       "      <td>8.0</td>\n",
       "      <td>3</td>\n",
       "      <td>10.0</td>\n",
       "      <td>8.0</td>\n",
       "      <td>125.0</td>\n",
       "      <td>121.5</td>\n",
       "      <td>275.5</td>\n",
       "    </tr>\n",
       "    <tr>\n",
       "      <th>1</th>\n",
       "      <td>9068748426</td>\n",
       "      <td>Blitz,Jeremiah</td>\n",
       "      <td>5.0</td>\n",
       "      <td>10</td>\n",
       "      <td>10.0</td>\n",
       "      <td>3.0</td>\n",
       "      <td>88.5</td>\n",
       "      <td>111.0</td>\n",
       "      <td>227.5</td>\n",
       "    </tr>\n",
       "    <tr>\n",
       "      <th>2</th>\n",
       "      <td>9070334975</td>\n",
       "      <td>Bohn,Cooper</td>\n",
       "      <td>9.0</td>\n",
       "      <td>4</td>\n",
       "      <td>10.0</td>\n",
       "      <td>7.0</td>\n",
       "      <td>98.0</td>\n",
       "      <td>95.0</td>\n",
       "      <td>223.0</td>\n",
       "    </tr>\n",
       "  </tbody>\n",
       "</table>\n",
       "</div>"
      ],
      "text/plain": [
       "    Campus ID              Name  Quiz 1  Quiz 2  Quiz 3  Quiz 4  Midterm   \\\n",
       "0  9071987672  Battenberg,Jacob     8.0       3    10.0     8.0     125.0   \n",
       "1  9068748426    Blitz,Jeremiah     5.0      10    10.0     3.0      88.5   \n",
       "2  9070334975       Bohn,Cooper     9.0       4    10.0     7.0      98.0   \n",
       "\n",
       "   Final exam  Grand Total  \n",
       "0       121.5        275.5  \n",
       "1       111.0        227.5  \n",
       "2        95.0        223.0  "
      ]
     },
     "execution_count": 20,
     "metadata": {},
     "output_type": "execute_result"
    }
   ],
   "source": [
    "data.head(3)"
   ]
  },
  {
   "cell_type": "code",
   "execution_count": 21,
   "metadata": {
    "collapsed": false
   },
   "outputs": [
    {
     "data": {
      "text/html": [
       "<div>\n",
       "<style scoped>\n",
       "    .dataframe tbody tr th:only-of-type {\n",
       "        vertical-align: middle;\n",
       "    }\n",
       "\n",
       "    .dataframe tbody tr th {\n",
       "        vertical-align: top;\n",
       "    }\n",
       "\n",
       "    .dataframe thead th {\n",
       "        text-align: right;\n",
       "    }\n",
       "</style>\n",
       "<table border=\"1\" class=\"dataframe\">\n",
       "  <thead>\n",
       "    <tr style=\"text-align: right;\">\n",
       "      <th></th>\n",
       "      <th>Campus ID</th>\n",
       "      <th>Quiz 1</th>\n",
       "      <th>Quiz 2</th>\n",
       "      <th>Quiz 3</th>\n",
       "      <th>Quiz 4</th>\n",
       "      <th>Midterm</th>\n",
       "      <th>Final exam</th>\n",
       "      <th>Grand Total</th>\n",
       "    </tr>\n",
       "  </thead>\n",
       "  <tbody>\n",
       "    <tr>\n",
       "      <th>count</th>\n",
       "      <td>8.000000e+01</td>\n",
       "      <td>79.000000</td>\n",
       "      <td>80.000000</td>\n",
       "      <td>78.000000</td>\n",
       "      <td>75.000000</td>\n",
       "      <td>79.000000</td>\n",
       "      <td>77.000000</td>\n",
       "      <td>80.000000</td>\n",
       "    </tr>\n",
       "    <tr>\n",
       "      <th>mean</th>\n",
       "      <td>9.072223e+09</td>\n",
       "      <td>8.987342</td>\n",
       "      <td>7.300000</td>\n",
       "      <td>9.115385</td>\n",
       "      <td>53.806667</td>\n",
       "      <td>62.582278</td>\n",
       "      <td>111.496753</td>\n",
       "      <td>244.621875</td>\n",
       "    </tr>\n",
       "    <tr>\n",
       "      <th>std</th>\n",
       "      <td>2.556264e+06</td>\n",
       "      <td>1.667900</td>\n",
       "      <td>2.905255</td>\n",
       "      <td>1.893123</td>\n",
       "      <td>54.297223</td>\n",
       "      <td>51.456880</td>\n",
       "      <td>23.117886</td>\n",
       "      <td>53.358502</td>\n",
       "    </tr>\n",
       "    <tr>\n",
       "      <th>min</th>\n",
       "      <td>9.067661e+09</td>\n",
       "      <td>4.000000</td>\n",
       "      <td>1.000000</td>\n",
       "      <td>2.000000</td>\n",
       "      <td>3.000000</td>\n",
       "      <td>3.000000</td>\n",
       "      <td>55.250000</td>\n",
       "      <td>14.000000</td>\n",
       "    </tr>\n",
       "    <tr>\n",
       "      <th>25%</th>\n",
       "      <td>9.070806e+09</td>\n",
       "      <td>8.000000</td>\n",
       "      <td>4.000000</td>\n",
       "      <td>10.000000</td>\n",
       "      <td>8.000000</td>\n",
       "      <td>8.000000</td>\n",
       "      <td>96.500000</td>\n",
       "      <td>226.500000</td>\n",
       "    </tr>\n",
       "    <tr>\n",
       "      <th>50%</th>\n",
       "      <td>9.071665e+09</td>\n",
       "      <td>10.000000</td>\n",
       "      <td>8.500000</td>\n",
       "      <td>10.000000</td>\n",
       "      <td>10.000000</td>\n",
       "      <td>76.500000</td>\n",
       "      <td>116.000000</td>\n",
       "      <td>257.125000</td>\n",
       "    </tr>\n",
       "    <tr>\n",
       "      <th>75%</th>\n",
       "      <td>9.072672e+09</td>\n",
       "      <td>10.000000</td>\n",
       "      <td>10.000000</td>\n",
       "      <td>10.000000</td>\n",
       "      <td>109.500000</td>\n",
       "      <td>110.000000</td>\n",
       "      <td>127.000000</td>\n",
       "      <td>277.750000</td>\n",
       "    </tr>\n",
       "    <tr>\n",
       "      <th>max</th>\n",
       "      <td>9.079192e+09</td>\n",
       "      <td>10.000000</td>\n",
       "      <td>10.000000</td>\n",
       "      <td>10.000000</td>\n",
       "      <td>145.000000</td>\n",
       "      <td>147.500000</td>\n",
       "      <td>150.000000</td>\n",
       "      <td>323.000000</td>\n",
       "    </tr>\n",
       "  </tbody>\n",
       "</table>\n",
       "</div>"
      ],
      "text/plain": [
       "          Campus ID     Quiz 1     Quiz 2     Quiz 3      Quiz 4    Midterm   \\\n",
       "count  8.000000e+01  79.000000  80.000000  78.000000   75.000000   79.000000   \n",
       "mean   9.072223e+09   8.987342   7.300000   9.115385   53.806667   62.582278   \n",
       "std    2.556264e+06   1.667900   2.905255   1.893123   54.297223   51.456880   \n",
       "min    9.067661e+09   4.000000   1.000000   2.000000    3.000000    3.000000   \n",
       "25%    9.070806e+09   8.000000   4.000000  10.000000    8.000000    8.000000   \n",
       "50%    9.071665e+09  10.000000   8.500000  10.000000   10.000000   76.500000   \n",
       "75%    9.072672e+09  10.000000  10.000000  10.000000  109.500000  110.000000   \n",
       "max    9.079192e+09  10.000000  10.000000  10.000000  145.000000  147.500000   \n",
       "\n",
       "       Final exam  Grand Total  \n",
       "count   77.000000    80.000000  \n",
       "mean   111.496753   244.621875  \n",
       "std     23.117886    53.358502  \n",
       "min     55.250000    14.000000  \n",
       "25%     96.500000   226.500000  \n",
       "50%    116.000000   257.125000  \n",
       "75%    127.000000   277.750000  \n",
       "max    150.000000   323.000000  "
      ]
     },
     "execution_count": 21,
     "metadata": {},
     "output_type": "execute_result"
    }
   ],
   "source": [
    "data.describe()"
   ]
  },
  {
   "cell_type": "code",
   "execution_count": 24,
   "metadata": {
    "collapsed": false
   },
   "outputs": [],
   "source": [
    "df = data.sort_values(by=['Final exam'], ascending=False)"
   ]
  },
  {
   "cell_type": "code",
   "execution_count": 26,
   "metadata": {
    "collapsed": true
   },
   "outputs": [],
   "source": [
    "df.to_csv('sortedgrade.csv')"
   ]
  },
  {
   "cell_type": "code",
   "execution_count": 27,
   "metadata": {
    "collapsed": false
   },
   "outputs": [
    {
     "data": {
      "text/html": [
       "<div>\n",
       "<style scoped>\n",
       "    .dataframe tbody tr th:only-of-type {\n",
       "        vertical-align: middle;\n",
       "    }\n",
       "\n",
       "    .dataframe tbody tr th {\n",
       "        vertical-align: top;\n",
       "    }\n",
       "\n",
       "    .dataframe thead th {\n",
       "        text-align: right;\n",
       "    }\n",
       "</style>\n",
       "<table border=\"1\" class=\"dataframe\">\n",
       "  <thead>\n",
       "    <tr style=\"text-align: right;\">\n",
       "      <th></th>\n",
       "      <th>Campus ID</th>\n",
       "      <th>Name</th>\n",
       "      <th>Quiz 1</th>\n",
       "      <th>Quiz 2</th>\n",
       "      <th>Quiz 3</th>\n",
       "      <th>Quiz 4</th>\n",
       "      <th>Midterm</th>\n",
       "      <th>Final exam</th>\n",
       "      <th>Grand Total</th>\n",
       "    </tr>\n",
       "  </thead>\n",
       "  <tbody>\n",
       "    <tr>\n",
       "      <th>0</th>\n",
       "      <td>9071987672</td>\n",
       "      <td>Battenberg,Jacob</td>\n",
       "      <td>8.0</td>\n",
       "      <td>3</td>\n",
       "      <td>10.0</td>\n",
       "      <td>8.0</td>\n",
       "      <td>125.0</td>\n",
       "      <td>121.50</td>\n",
       "      <td>275.50</td>\n",
       "    </tr>\n",
       "    <tr>\n",
       "      <th>1</th>\n",
       "      <td>9068748426</td>\n",
       "      <td>Blitz,Jeremiah</td>\n",
       "      <td>5.0</td>\n",
       "      <td>10</td>\n",
       "      <td>10.0</td>\n",
       "      <td>3.0</td>\n",
       "      <td>88.5</td>\n",
       "      <td>111.00</td>\n",
       "      <td>227.50</td>\n",
       "    </tr>\n",
       "    <tr>\n",
       "      <th>2</th>\n",
       "      <td>9070334975</td>\n",
       "      <td>Bohn,Cooper</td>\n",
       "      <td>9.0</td>\n",
       "      <td>4</td>\n",
       "      <td>10.0</td>\n",
       "      <td>7.0</td>\n",
       "      <td>98.0</td>\n",
       "      <td>95.00</td>\n",
       "      <td>223.00</td>\n",
       "    </tr>\n",
       "    <tr>\n",
       "      <th>3</th>\n",
       "      <td>9071037445</td>\n",
       "      <td>Catalano,Michael</td>\n",
       "      <td>10.0</td>\n",
       "      <td>5</td>\n",
       "      <td>4.0</td>\n",
       "      <td>6.0</td>\n",
       "      <td>109.5</td>\n",
       "      <td>NaN</td>\n",
       "      <td>134.50</td>\n",
       "    </tr>\n",
       "    <tr>\n",
       "      <th>4</th>\n",
       "      <td>9079191954</td>\n",
       "      <td>Chen,Qinhong</td>\n",
       "      <td>7.0</td>\n",
       "      <td>10</td>\n",
       "      <td>10.0</td>\n",
       "      <td>10.0</td>\n",
       "      <td>112.0</td>\n",
       "      <td>103.00</td>\n",
       "      <td>252.00</td>\n",
       "    </tr>\n",
       "    <tr>\n",
       "      <th>5</th>\n",
       "      <td>9072078182</td>\n",
       "      <td>Childs,Andrew Phillip</td>\n",
       "      <td>10.0</td>\n",
       "      <td>10</td>\n",
       "      <td>10.0</td>\n",
       "      <td>10.0</td>\n",
       "      <td>95.0</td>\n",
       "      <td>128.50</td>\n",
       "      <td>263.50</td>\n",
       "    </tr>\n",
       "    <tr>\n",
       "      <th>6</th>\n",
       "      <td>9078294239</td>\n",
       "      <td>Criaud,Tanguy Michel Marie</td>\n",
       "      <td>8.0</td>\n",
       "      <td>5</td>\n",
       "      <td>5.0</td>\n",
       "      <td>7.0</td>\n",
       "      <td>64.5</td>\n",
       "      <td>55.25</td>\n",
       "      <td>144.75</td>\n",
       "    </tr>\n",
       "    <tr>\n",
       "      <th>7</th>\n",
       "      <td>9072078836</td>\n",
       "      <td>Degler,Evan</td>\n",
       "      <td>10.0</td>\n",
       "      <td>5</td>\n",
       "      <td>10.0</td>\n",
       "      <td>8.0</td>\n",
       "      <td>107.5</td>\n",
       "      <td>137.00</td>\n",
       "      <td>277.50</td>\n",
       "    </tr>\n",
       "    <tr>\n",
       "      <th>8</th>\n",
       "      <td>9071965074</td>\n",
       "      <td>Doupe,Russell Charles</td>\n",
       "      <td>4.0</td>\n",
       "      <td>4</td>\n",
       "      <td>2.0</td>\n",
       "      <td>NaN</td>\n",
       "      <td>45.0</td>\n",
       "      <td>NaN</td>\n",
       "      <td>55.00</td>\n",
       "    </tr>\n",
       "    <tr>\n",
       "      <th>9</th>\n",
       "      <td>9070336723</td>\n",
       "      <td>Elliot,Samuel</td>\n",
       "      <td>5.0</td>\n",
       "      <td>4</td>\n",
       "      <td>5.0</td>\n",
       "      <td>6.0</td>\n",
       "      <td>98.0</td>\n",
       "      <td>69.00</td>\n",
       "      <td>187.00</td>\n",
       "    </tr>\n",
       "    <tr>\n",
       "      <th>10</th>\n",
       "      <td>9071525480</td>\n",
       "      <td>Feyen,Nick</td>\n",
       "      <td>8.0</td>\n",
       "      <td>1</td>\n",
       "      <td>10.0</td>\n",
       "      <td>3.0</td>\n",
       "      <td>130.0</td>\n",
       "      <td>113.00</td>\n",
       "      <td>265.00</td>\n",
       "    </tr>\n",
       "    <tr>\n",
       "      <th>11</th>\n",
       "      <td>9072881585</td>\n",
       "      <td>Galles,Henry</td>\n",
       "      <td>10.0</td>\n",
       "      <td>10</td>\n",
       "      <td>10.0</td>\n",
       "      <td>10.0</td>\n",
       "      <td>81.5</td>\n",
       "      <td>135.00</td>\n",
       "      <td>256.50</td>\n",
       "    </tr>\n",
       "    <tr>\n",
       "      <th>12</th>\n",
       "      <td>9070853909</td>\n",
       "      <td>Gasser,Sam</td>\n",
       "      <td>10.0</td>\n",
       "      <td>4</td>\n",
       "      <td>10.0</td>\n",
       "      <td>8.0</td>\n",
       "      <td>64.5</td>\n",
       "      <td>89.25</td>\n",
       "      <td>185.75</td>\n",
       "    </tr>\n",
       "    <tr>\n",
       "      <th>13</th>\n",
       "      <td>9069394030</td>\n",
       "      <td>Graham,Bryan</td>\n",
       "      <td>7.0</td>\n",
       "      <td>4</td>\n",
       "      <td>NaN</td>\n",
       "      <td>3.0</td>\n",
       "      <td>53.0</td>\n",
       "      <td>64.75</td>\n",
       "      <td>131.75</td>\n",
       "    </tr>\n",
       "    <tr>\n",
       "      <th>14</th>\n",
       "      <td>9071035969</td>\n",
       "      <td>Hahn,Ian</td>\n",
       "      <td>10.0</td>\n",
       "      <td>10</td>\n",
       "      <td>10.0</td>\n",
       "      <td>3.0</td>\n",
       "      <td>118.0</td>\n",
       "      <td>117.50</td>\n",
       "      <td>268.50</td>\n",
       "    </tr>\n",
       "    <tr>\n",
       "      <th>15</th>\n",
       "      <td>9073002322</td>\n",
       "      <td>Hapeman,William James</td>\n",
       "      <td>5.0</td>\n",
       "      <td>10</td>\n",
       "      <td>10.0</td>\n",
       "      <td>8.0</td>\n",
       "      <td>102.0</td>\n",
       "      <td>116.00</td>\n",
       "      <td>251.00</td>\n",
       "    </tr>\n",
       "    <tr>\n",
       "      <th>16</th>\n",
       "      <td>9073702038</td>\n",
       "      <td>Hill,Timothy</td>\n",
       "      <td>10.0</td>\n",
       "      <td>6</td>\n",
       "      <td>5.0</td>\n",
       "      <td>9.0</td>\n",
       "      <td>122.5</td>\n",
       "      <td>116.50</td>\n",
       "      <td>269.00</td>\n",
       "    </tr>\n",
       "    <tr>\n",
       "      <th>17</th>\n",
       "      <td>9071901459</td>\n",
       "      <td>Holland,Samuel</td>\n",
       "      <td>10.0</td>\n",
       "      <td>10</td>\n",
       "      <td>10.0</td>\n",
       "      <td>8.0</td>\n",
       "      <td>125.0</td>\n",
       "      <td>137.50</td>\n",
       "      <td>300.50</td>\n",
       "    </tr>\n",
       "    <tr>\n",
       "      <th>18</th>\n",
       "      <td>9072522171</td>\n",
       "      <td>Honold,Luke</td>\n",
       "      <td>10.0</td>\n",
       "      <td>10</td>\n",
       "      <td>10.0</td>\n",
       "      <td>8.0</td>\n",
       "      <td>103.0</td>\n",
       "      <td>140.50</td>\n",
       "      <td>281.50</td>\n",
       "    </tr>\n",
       "    <tr>\n",
       "      <th>19</th>\n",
       "      <td>9072082267</td>\n",
       "      <td>Jirschele,Sean</td>\n",
       "      <td>10.0</td>\n",
       "      <td>10</td>\n",
       "      <td>10.0</td>\n",
       "      <td>8.0</td>\n",
       "      <td>109.0</td>\n",
       "      <td>99.00</td>\n",
       "      <td>246.00</td>\n",
       "    </tr>\n",
       "    <tr>\n",
       "      <th>20</th>\n",
       "      <td>9071531892</td>\n",
       "      <td>Johnson,Erik Steven</td>\n",
       "      <td>10.0</td>\n",
       "      <td>4</td>\n",
       "      <td>10.0</td>\n",
       "      <td>10.0</td>\n",
       "      <td>67.5</td>\n",
       "      <td>75.50</td>\n",
       "      <td>177.00</td>\n",
       "    </tr>\n",
       "    <tr>\n",
       "      <th>21</th>\n",
       "      <td>9070339784</td>\n",
       "      <td>Kaat,Amanda</td>\n",
       "      <td>8.0</td>\n",
       "      <td>6</td>\n",
       "      <td>6.0</td>\n",
       "      <td>8.0</td>\n",
       "      <td>76.5</td>\n",
       "      <td>71.50</td>\n",
       "      <td>176.00</td>\n",
       "    </tr>\n",
       "    <tr>\n",
       "      <th>22</th>\n",
       "      <td>9070163408</td>\n",
       "      <td>Klawonn,Cailin</td>\n",
       "      <td>10.0</td>\n",
       "      <td>7</td>\n",
       "      <td>10.0</td>\n",
       "      <td>3.0</td>\n",
       "      <td>125.5</td>\n",
       "      <td>127.00</td>\n",
       "      <td>282.50</td>\n",
       "    </tr>\n",
       "    <tr>\n",
       "      <th>23</th>\n",
       "      <td>9071162201</td>\n",
       "      <td>Korab,Benjamin</td>\n",
       "      <td>5.0</td>\n",
       "      <td>4</td>\n",
       "      <td>10.0</td>\n",
       "      <td>5.0</td>\n",
       "      <td>90.0</td>\n",
       "      <td>109.00</td>\n",
       "      <td>223.00</td>\n",
       "    </tr>\n",
       "    <tr>\n",
       "      <th>24</th>\n",
       "      <td>9078178994</td>\n",
       "      <td>Le,Hung Quoc</td>\n",
       "      <td>10.0</td>\n",
       "      <td>10</td>\n",
       "      <td>10.0</td>\n",
       "      <td>NaN</td>\n",
       "      <td>126.5</td>\n",
       "      <td>115.50</td>\n",
       "      <td>272.00</td>\n",
       "    </tr>\n",
       "    <tr>\n",
       "      <th>25</th>\n",
       "      <td>9070362984</td>\n",
       "      <td>Ley,Rachel</td>\n",
       "      <td>10.0</td>\n",
       "      <td>10</td>\n",
       "      <td>10.0</td>\n",
       "      <td>3.0</td>\n",
       "      <td>112.5</td>\n",
       "      <td>116.00</td>\n",
       "      <td>261.50</td>\n",
       "    </tr>\n",
       "    <tr>\n",
       "      <th>26</th>\n",
       "      <td>9069932813</td>\n",
       "      <td>Malliet,Ryan</td>\n",
       "      <td>NaN</td>\n",
       "      <td>5</td>\n",
       "      <td>10.0</td>\n",
       "      <td>3.0</td>\n",
       "      <td>110.5</td>\n",
       "      <td>121.75</td>\n",
       "      <td>250.25</td>\n",
       "    </tr>\n",
       "    <tr>\n",
       "      <th>27</th>\n",
       "      <td>9071577937</td>\n",
       "      <td>Marinin,Benjamin</td>\n",
       "      <td>10.0</td>\n",
       "      <td>10</td>\n",
       "      <td>10.0</td>\n",
       "      <td>10.0</td>\n",
       "      <td>100.5</td>\n",
       "      <td>150.00</td>\n",
       "      <td>290.50</td>\n",
       "    </tr>\n",
       "    <tr>\n",
       "      <th>28</th>\n",
       "      <td>9078217651</td>\n",
       "      <td>Martinez Rodriguez,Julia</td>\n",
       "      <td>10.0</td>\n",
       "      <td>3</td>\n",
       "      <td>7.0</td>\n",
       "      <td>NaN</td>\n",
       "      <td>120.0</td>\n",
       "      <td>87.50</td>\n",
       "      <td>227.50</td>\n",
       "    </tr>\n",
       "    <tr>\n",
       "      <th>29</th>\n",
       "      <td>9072972970</td>\n",
       "      <td>Massey,Ben</td>\n",
       "      <td>10.0</td>\n",
       "      <td>3</td>\n",
       "      <td>10.0</td>\n",
       "      <td>10.0</td>\n",
       "      <td>147.5</td>\n",
       "      <td>126.75</td>\n",
       "      <td>307.25</td>\n",
       "    </tr>\n",
       "    <tr>\n",
       "      <th>...</th>\n",
       "      <td>...</td>\n",
       "      <td>...</td>\n",
       "      <td>...</td>\n",
       "      <td>...</td>\n",
       "      <td>...</td>\n",
       "      <td>...</td>\n",
       "      <td>...</td>\n",
       "      <td>...</td>\n",
       "      <td>...</td>\n",
       "    </tr>\n",
       "    <tr>\n",
       "      <th>50</th>\n",
       "      <td>9071159421</td>\n",
       "      <td>Baker,Kathryn</td>\n",
       "      <td>10.0</td>\n",
       "      <td>10</td>\n",
       "      <td>10.0</td>\n",
       "      <td>96.0</td>\n",
       "      <td>8.0</td>\n",
       "      <td>118.50</td>\n",
       "      <td>252.50</td>\n",
       "    </tr>\n",
       "    <tr>\n",
       "      <th>51</th>\n",
       "      <td>9071159645</td>\n",
       "      <td>Bergevain,Clay Gregory</td>\n",
       "      <td>6.0</td>\n",
       "      <td>10</td>\n",
       "      <td>6.0</td>\n",
       "      <td>109.5</td>\n",
       "      <td>3.0</td>\n",
       "      <td>95.50</td>\n",
       "      <td>230.00</td>\n",
       "    </tr>\n",
       "    <tr>\n",
       "      <th>52</th>\n",
       "      <td>9072568562</td>\n",
       "      <td>Blanch,Matt</td>\n",
       "      <td>10.0</td>\n",
       "      <td>10</td>\n",
       "      <td>10.0</td>\n",
       "      <td>118.0</td>\n",
       "      <td>3.0</td>\n",
       "      <td>115.50</td>\n",
       "      <td>266.50</td>\n",
       "    </tr>\n",
       "    <tr>\n",
       "      <th>53</th>\n",
       "      <td>9071753595</td>\n",
       "      <td>Bouse,Bridgette</td>\n",
       "      <td>6.0</td>\n",
       "      <td>5</td>\n",
       "      <td>10.0</td>\n",
       "      <td>145.0</td>\n",
       "      <td>8.0</td>\n",
       "      <td>117.50</td>\n",
       "      <td>291.50</td>\n",
       "    </tr>\n",
       "    <tr>\n",
       "      <th>54</th>\n",
       "      <td>9071525589</td>\n",
       "      <td>Bruckschen,Eric</td>\n",
       "      <td>10.0</td>\n",
       "      <td>2</td>\n",
       "      <td>6.0</td>\n",
       "      <td>122.5</td>\n",
       "      <td>3.0</td>\n",
       "      <td>135.00</td>\n",
       "      <td>278.50</td>\n",
       "    </tr>\n",
       "    <tr>\n",
       "      <th>55</th>\n",
       "      <td>9070752069</td>\n",
       "      <td>Case,Philip</td>\n",
       "      <td>8.0</td>\n",
       "      <td>3</td>\n",
       "      <td>6.0</td>\n",
       "      <td>100.5</td>\n",
       "      <td>3.0</td>\n",
       "      <td>90.00</td>\n",
       "      <td>210.50</td>\n",
       "    </tr>\n",
       "    <tr>\n",
       "      <th>56</th>\n",
       "      <td>9072600449</td>\n",
       "      <td>Coghlan,Erin</td>\n",
       "      <td>10.0</td>\n",
       "      <td>10</td>\n",
       "      <td>10.0</td>\n",
       "      <td>129.0</td>\n",
       "      <td>3.0</td>\n",
       "      <td>124.50</td>\n",
       "      <td>286.50</td>\n",
       "    </tr>\n",
       "    <tr>\n",
       "      <th>57</th>\n",
       "      <td>9078297877</td>\n",
       "      <td>Donsimoni,Laetitia Marie</td>\n",
       "      <td>9.0</td>\n",
       "      <td>10</td>\n",
       "      <td>10.0</td>\n",
       "      <td>88.5</td>\n",
       "      <td>8.0</td>\n",
       "      <td>69.00</td>\n",
       "      <td>194.50</td>\n",
       "    </tr>\n",
       "    <tr>\n",
       "      <th>58</th>\n",
       "      <td>9070798021</td>\n",
       "      <td>Garrison,Madeline</td>\n",
       "      <td>10.0</td>\n",
       "      <td>7</td>\n",
       "      <td>10.0</td>\n",
       "      <td>105.0</td>\n",
       "      <td>9.0</td>\n",
       "      <td>111.25</td>\n",
       "      <td>252.25</td>\n",
       "    </tr>\n",
       "    <tr>\n",
       "      <th>59</th>\n",
       "      <td>9072592034</td>\n",
       "      <td>Grujo,Sanja</td>\n",
       "      <td>10.0</td>\n",
       "      <td>10</td>\n",
       "      <td>10.0</td>\n",
       "      <td>99.5</td>\n",
       "      <td>8.0</td>\n",
       "      <td>130.00</td>\n",
       "      <td>267.50</td>\n",
       "    </tr>\n",
       "    <tr>\n",
       "      <th>60</th>\n",
       "      <td>9071901210</td>\n",
       "      <td>Hauge,Tyler</td>\n",
       "      <td>10.0</td>\n",
       "      <td>4</td>\n",
       "      <td>10.0</td>\n",
       "      <td>129.0</td>\n",
       "      <td>3.0</td>\n",
       "      <td>75.00</td>\n",
       "      <td>231.00</td>\n",
       "    </tr>\n",
       "    <tr>\n",
       "      <th>61</th>\n",
       "      <td>9072093298</td>\n",
       "      <td>Hepp,Nicole</td>\n",
       "      <td>10.0</td>\n",
       "      <td>10</td>\n",
       "      <td>10.0</td>\n",
       "      <td>135.0</td>\n",
       "      <td>10.0</td>\n",
       "      <td>112.00</td>\n",
       "      <td>287.00</td>\n",
       "    </tr>\n",
       "    <tr>\n",
       "      <th>62</th>\n",
       "      <td>9073426810</td>\n",
       "      <td>Hilkert,Eric</td>\n",
       "      <td>10.0</td>\n",
       "      <td>10</td>\n",
       "      <td>10.0</td>\n",
       "      <td>109.5</td>\n",
       "      <td>3.0</td>\n",
       "      <td>81.00</td>\n",
       "      <td>223.50</td>\n",
       "    </tr>\n",
       "    <tr>\n",
       "      <th>63</th>\n",
       "      <td>9070808531</td>\n",
       "      <td>Kuether,Laine</td>\n",
       "      <td>10.0</td>\n",
       "      <td>4</td>\n",
       "      <td>10.0</td>\n",
       "      <td>103.0</td>\n",
       "      <td>10.0</td>\n",
       "      <td>144.50</td>\n",
       "      <td>281.50</td>\n",
       "    </tr>\n",
       "    <tr>\n",
       "      <th>64</th>\n",
       "      <td>9071751672</td>\n",
       "      <td>Levy,Matthew Adam</td>\n",
       "      <td>10.0</td>\n",
       "      <td>4</td>\n",
       "      <td>10.0</td>\n",
       "      <td>113.5</td>\n",
       "      <td>7.0</td>\n",
       "      <td>111.50</td>\n",
       "      <td>256.00</td>\n",
       "    </tr>\n",
       "    <tr>\n",
       "      <th>65</th>\n",
       "      <td>9071350707</td>\n",
       "      <td>Longo,Madeline Claire</td>\n",
       "      <td>10.0</td>\n",
       "      <td>7</td>\n",
       "      <td>10.0</td>\n",
       "      <td>100.0</td>\n",
       "      <td>3.0</td>\n",
       "      <td>105.50</td>\n",
       "      <td>235.50</td>\n",
       "    </tr>\n",
       "    <tr>\n",
       "      <th>66</th>\n",
       "      <td>9071903182</td>\n",
       "      <td>Mazzara,Jordan Wilke</td>\n",
       "      <td>10.0</td>\n",
       "      <td>10</td>\n",
       "      <td>10.0</td>\n",
       "      <td>66.0</td>\n",
       "      <td>3.0</td>\n",
       "      <td>64.50</td>\n",
       "      <td>163.50</td>\n",
       "    </tr>\n",
       "    <tr>\n",
       "      <th>67</th>\n",
       "      <td>9071445259</td>\n",
       "      <td>Millard,Joey</td>\n",
       "      <td>10.0</td>\n",
       "      <td>4</td>\n",
       "      <td>10.0</td>\n",
       "      <td>106.5</td>\n",
       "      <td>3.0</td>\n",
       "      <td>113.25</td>\n",
       "      <td>246.75</td>\n",
       "    </tr>\n",
       "    <tr>\n",
       "      <th>68</th>\n",
       "      <td>9072604060</td>\n",
       "      <td>Nichol,Mark Kevin</td>\n",
       "      <td>8.0</td>\n",
       "      <td>4</td>\n",
       "      <td>10.0</td>\n",
       "      <td>140.0</td>\n",
       "      <td>3.0</td>\n",
       "      <td>114.00</td>\n",
       "      <td>279.00</td>\n",
       "    </tr>\n",
       "    <tr>\n",
       "      <th>69</th>\n",
       "      <td>9071374996</td>\n",
       "      <td>Nicholson,Calvin</td>\n",
       "      <td>8.0</td>\n",
       "      <td>5</td>\n",
       "      <td>10.0</td>\n",
       "      <td>131.5</td>\n",
       "      <td>3.0</td>\n",
       "      <td>99.25</td>\n",
       "      <td>256.75</td>\n",
       "    </tr>\n",
       "    <tr>\n",
       "      <th>70</th>\n",
       "      <td>9070397238</td>\n",
       "      <td>Nickels,Benjamin</td>\n",
       "      <td>6.0</td>\n",
       "      <td>10</td>\n",
       "      <td>5.0</td>\n",
       "      <td>100.0</td>\n",
       "      <td>3.0</td>\n",
       "      <td>95.00</td>\n",
       "      <td>219.00</td>\n",
       "    </tr>\n",
       "    <tr>\n",
       "      <th>71</th>\n",
       "      <td>9079190642</td>\n",
       "      <td>Qian,Chaoyang</td>\n",
       "      <td>10.0</td>\n",
       "      <td>7</td>\n",
       "      <td>6.0</td>\n",
       "      <td>130.0</td>\n",
       "      <td>10.0</td>\n",
       "      <td>120.25</td>\n",
       "      <td>283.25</td>\n",
       "    </tr>\n",
       "    <tr>\n",
       "      <th>72</th>\n",
       "      <td>9073718547</td>\n",
       "      <td>Reines,Maxwell</td>\n",
       "      <td>7.0</td>\n",
       "      <td>10</td>\n",
       "      <td>10.0</td>\n",
       "      <td>102.0</td>\n",
       "      <td>3.0</td>\n",
       "      <td>139.00</td>\n",
       "      <td>271.00</td>\n",
       "    </tr>\n",
       "    <tr>\n",
       "      <th>73</th>\n",
       "      <td>9078285468</td>\n",
       "      <td>Ros Callejo,Myriam</td>\n",
       "      <td>8.0</td>\n",
       "      <td>5</td>\n",
       "      <td>10.0</td>\n",
       "      <td>117.0</td>\n",
       "      <td>3.0</td>\n",
       "      <td>96.50</td>\n",
       "      <td>239.50</td>\n",
       "    </tr>\n",
       "    <tr>\n",
       "      <th>74</th>\n",
       "      <td>9078207603</td>\n",
       "      <td>Sabin Ulloa,Carlos</td>\n",
       "      <td>10.0</td>\n",
       "      <td>5</td>\n",
       "      <td>10.0</td>\n",
       "      <td>112.0</td>\n",
       "      <td>3.0</td>\n",
       "      <td>120.25</td>\n",
       "      <td>260.25</td>\n",
       "    </tr>\n",
       "    <tr>\n",
       "      <th>75</th>\n",
       "      <td>9071461926</td>\n",
       "      <td>Sauer,Mitchell</td>\n",
       "      <td>10.0</td>\n",
       "      <td>10</td>\n",
       "      <td>6.0</td>\n",
       "      <td>141.5</td>\n",
       "      <td>8.0</td>\n",
       "      <td>147.50</td>\n",
       "      <td>323.00</td>\n",
       "    </tr>\n",
       "    <tr>\n",
       "      <th>76</th>\n",
       "      <td>9072605414</td>\n",
       "      <td>Stocking,Ryan</td>\n",
       "      <td>10.0</td>\n",
       "      <td>6</td>\n",
       "      <td>10.0</td>\n",
       "      <td>110.0</td>\n",
       "      <td>8.0</td>\n",
       "      <td>122.50</td>\n",
       "      <td>266.50</td>\n",
       "    </tr>\n",
       "    <tr>\n",
       "      <th>77</th>\n",
       "      <td>9071441308</td>\n",
       "      <td>Stuber,Lauren</td>\n",
       "      <td>10.0</td>\n",
       "      <td>10</td>\n",
       "      <td>10.0</td>\n",
       "      <td>100.5</td>\n",
       "      <td>4.0</td>\n",
       "      <td>116.00</td>\n",
       "      <td>250.50</td>\n",
       "    </tr>\n",
       "    <tr>\n",
       "      <th>78</th>\n",
       "      <td>9070893319</td>\n",
       "      <td>Tracey,Miles</td>\n",
       "      <td>9.0</td>\n",
       "      <td>6</td>\n",
       "      <td>10.0</td>\n",
       "      <td>92.0</td>\n",
       "      <td>8.0</td>\n",
       "      <td>61.00</td>\n",
       "      <td>186.00</td>\n",
       "    </tr>\n",
       "    <tr>\n",
       "      <th>79</th>\n",
       "      <td>9069945435</td>\n",
       "      <td>Vandenack,Brett</td>\n",
       "      <td>10.0</td>\n",
       "      <td>4</td>\n",
       "      <td>6.0</td>\n",
       "      <td>117.0</td>\n",
       "      <td>4.0</td>\n",
       "      <td>136.25</td>\n",
       "      <td>277.25</td>\n",
       "    </tr>\n",
       "  </tbody>\n",
       "</table>\n",
       "<p>80 rows × 9 columns</p>\n",
       "</div>"
      ],
      "text/plain": [
       "     Campus ID                        Name  Quiz 1  Quiz 2  Quiz 3  Quiz 4  \\\n",
       "0   9071987672            Battenberg,Jacob     8.0       3    10.0     8.0   \n",
       "1   9068748426              Blitz,Jeremiah     5.0      10    10.0     3.0   \n",
       "2   9070334975                 Bohn,Cooper     9.0       4    10.0     7.0   \n",
       "3   9071037445            Catalano,Michael    10.0       5     4.0     6.0   \n",
       "4   9079191954                Chen,Qinhong     7.0      10    10.0    10.0   \n",
       "5   9072078182       Childs,Andrew Phillip    10.0      10    10.0    10.0   \n",
       "6   9078294239  Criaud,Tanguy Michel Marie     8.0       5     5.0     7.0   \n",
       "7   9072078836                 Degler,Evan    10.0       5    10.0     8.0   \n",
       "8   9071965074       Doupe,Russell Charles     4.0       4     2.0     NaN   \n",
       "9   9070336723               Elliot,Samuel     5.0       4     5.0     6.0   \n",
       "10  9071525480                  Feyen,Nick     8.0       1    10.0     3.0   \n",
       "11  9072881585                Galles,Henry    10.0      10    10.0    10.0   \n",
       "12  9070853909                  Gasser,Sam    10.0       4    10.0     8.0   \n",
       "13  9069394030                Graham,Bryan     7.0       4     NaN     3.0   \n",
       "14  9071035969                    Hahn,Ian    10.0      10    10.0     3.0   \n",
       "15  9073002322       Hapeman,William James     5.0      10    10.0     8.0   \n",
       "16  9073702038                Hill,Timothy    10.0       6     5.0     9.0   \n",
       "17  9071901459              Holland,Samuel    10.0      10    10.0     8.0   \n",
       "18  9072522171                 Honold,Luke    10.0      10    10.0     8.0   \n",
       "19  9072082267              Jirschele,Sean    10.0      10    10.0     8.0   \n",
       "20  9071531892         Johnson,Erik Steven    10.0       4    10.0    10.0   \n",
       "21  9070339784                 Kaat,Amanda     8.0       6     6.0     8.0   \n",
       "22  9070163408              Klawonn,Cailin    10.0       7    10.0     3.0   \n",
       "23  9071162201              Korab,Benjamin     5.0       4    10.0     5.0   \n",
       "24  9078178994                Le,Hung Quoc    10.0      10    10.0     NaN   \n",
       "25  9070362984                  Ley,Rachel    10.0      10    10.0     3.0   \n",
       "26  9069932813                Malliet,Ryan     NaN       5    10.0     3.0   \n",
       "27  9071577937            Marinin,Benjamin    10.0      10    10.0    10.0   \n",
       "28  9078217651    Martinez Rodriguez,Julia    10.0       3     7.0     NaN   \n",
       "29  9072972970                  Massey,Ben    10.0       3    10.0    10.0   \n",
       "..         ...                         ...     ...     ...     ...     ...   \n",
       "50  9071159421               Baker,Kathryn    10.0      10    10.0    96.0   \n",
       "51  9071159645      Bergevain,Clay Gregory     6.0      10     6.0   109.5   \n",
       "52  9072568562                 Blanch,Matt    10.0      10    10.0   118.0   \n",
       "53  9071753595             Bouse,Bridgette     6.0       5    10.0   145.0   \n",
       "54  9071525589             Bruckschen,Eric    10.0       2     6.0   122.5   \n",
       "55  9070752069                 Case,Philip     8.0       3     6.0   100.5   \n",
       "56  9072600449                Coghlan,Erin    10.0      10    10.0   129.0   \n",
       "57  9078297877    Donsimoni,Laetitia Marie     9.0      10    10.0    88.5   \n",
       "58  9070798021           Garrison,Madeline    10.0       7    10.0   105.0   \n",
       "59  9072592034                 Grujo,Sanja    10.0      10    10.0    99.5   \n",
       "60  9071901210                 Hauge,Tyler    10.0       4    10.0   129.0   \n",
       "61  9072093298                 Hepp,Nicole    10.0      10    10.0   135.0   \n",
       "62  9073426810                Hilkert,Eric    10.0      10    10.0   109.5   \n",
       "63  9070808531               Kuether,Laine    10.0       4    10.0   103.0   \n",
       "64  9071751672           Levy,Matthew Adam    10.0       4    10.0   113.5   \n",
       "65  9071350707       Longo,Madeline Claire    10.0       7    10.0   100.0   \n",
       "66  9071903182        Mazzara,Jordan Wilke    10.0      10    10.0    66.0   \n",
       "67  9071445259                Millard,Joey    10.0       4    10.0   106.5   \n",
       "68  9072604060           Nichol,Mark Kevin     8.0       4    10.0   140.0   \n",
       "69  9071374996            Nicholson,Calvin     8.0       5    10.0   131.5   \n",
       "70  9070397238            Nickels,Benjamin     6.0      10     5.0   100.0   \n",
       "71  9079190642               Qian,Chaoyang    10.0       7     6.0   130.0   \n",
       "72  9073718547              Reines,Maxwell     7.0      10    10.0   102.0   \n",
       "73  9078285468          Ros Callejo,Myriam     8.0       5    10.0   117.0   \n",
       "74  9078207603          Sabin Ulloa,Carlos    10.0       5    10.0   112.0   \n",
       "75  9071461926              Sauer,Mitchell    10.0      10     6.0   141.5   \n",
       "76  9072605414               Stocking,Ryan    10.0       6    10.0   110.0   \n",
       "77  9071441308               Stuber,Lauren    10.0      10    10.0   100.5   \n",
       "78  9070893319                Tracey,Miles     9.0       6    10.0    92.0   \n",
       "79  9069945435             Vandenack,Brett    10.0       4     6.0   117.0   \n",
       "\n",
       "    Midterm   Final exam  Grand Total  \n",
       "0      125.0      121.50       275.50  \n",
       "1       88.5      111.00       227.50  \n",
       "2       98.0       95.00       223.00  \n",
       "3      109.5         NaN       134.50  \n",
       "4      112.0      103.00       252.00  \n",
       "5       95.0      128.50       263.50  \n",
       "6       64.5       55.25       144.75  \n",
       "7      107.5      137.00       277.50  \n",
       "8       45.0         NaN        55.00  \n",
       "9       98.0       69.00       187.00  \n",
       "10     130.0      113.00       265.00  \n",
       "11      81.5      135.00       256.50  \n",
       "12      64.5       89.25       185.75  \n",
       "13      53.0       64.75       131.75  \n",
       "14     118.0      117.50       268.50  \n",
       "15     102.0      116.00       251.00  \n",
       "16     122.5      116.50       269.00  \n",
       "17     125.0      137.50       300.50  \n",
       "18     103.0      140.50       281.50  \n",
       "19     109.0       99.00       246.00  \n",
       "20      67.5       75.50       177.00  \n",
       "21      76.5       71.50       176.00  \n",
       "22     125.5      127.00       282.50  \n",
       "23      90.0      109.00       223.00  \n",
       "24     126.5      115.50       272.00  \n",
       "25     112.5      116.00       261.50  \n",
       "26     110.5      121.75       250.25  \n",
       "27     100.5      150.00       290.50  \n",
       "28     120.0       87.50       227.50  \n",
       "29     147.5      126.75       307.25  \n",
       "..       ...         ...          ...  \n",
       "50       8.0      118.50       252.50  \n",
       "51       3.0       95.50       230.00  \n",
       "52       3.0      115.50       266.50  \n",
       "53       8.0      117.50       291.50  \n",
       "54       3.0      135.00       278.50  \n",
       "55       3.0       90.00       210.50  \n",
       "56       3.0      124.50       286.50  \n",
       "57       8.0       69.00       194.50  \n",
       "58       9.0      111.25       252.25  \n",
       "59       8.0      130.00       267.50  \n",
       "60       3.0       75.00       231.00  \n",
       "61      10.0      112.00       287.00  \n",
       "62       3.0       81.00       223.50  \n",
       "63      10.0      144.50       281.50  \n",
       "64       7.0      111.50       256.00  \n",
       "65       3.0      105.50       235.50  \n",
       "66       3.0       64.50       163.50  \n",
       "67       3.0      113.25       246.75  \n",
       "68       3.0      114.00       279.00  \n",
       "69       3.0       99.25       256.75  \n",
       "70       3.0       95.00       219.00  \n",
       "71      10.0      120.25       283.25  \n",
       "72       3.0      139.00       271.00  \n",
       "73       3.0       96.50       239.50  \n",
       "74       3.0      120.25       260.25  \n",
       "75       8.0      147.50       323.00  \n",
       "76       8.0      122.50       266.50  \n",
       "77       4.0      116.00       250.50  \n",
       "78       8.0       61.00       186.00  \n",
       "79       4.0      136.25       277.25  \n",
       "\n",
       "[80 rows x 9 columns]"
      ]
     },
     "execution_count": 27,
     "metadata": {},
     "output_type": "execute_result"
    }
   ],
   "source": [
    "data"
   ]
  },
  {
   "cell_type": "code",
   "execution_count": 29,
   "metadata": {
    "collapsed": true
   },
   "outputs": [],
   "source": [
    "df2 = data.sort_values(by=['Grand Total'], ascending=False)"
   ]
  },
  {
   "cell_type": "code",
   "execution_count": 30,
   "metadata": {
    "collapsed": true
   },
   "outputs": [],
   "source": [
    "df2.to_csv('sortedtotal.csv')"
   ]
  },
  {
   "cell_type": "code",
   "execution_count": 45,
   "metadata": {
    "collapsed": true
   },
   "outputs": [],
   "source": [
    "data['q1'] = data['score'].str[0:1]"
   ]
  },
  {
   "cell_type": "code",
   "execution_count": 46,
   "metadata": {
    "collapsed": false
   },
   "outputs": [],
   "source": [
    "data['q2'] = data['score'].str[1:2]"
   ]
  },
  {
   "cell_type": "code",
   "execution_count": 47,
   "metadata": {
    "collapsed": false
   },
   "outputs": [],
   "source": [
    "data['q3'] = data['score'].str[2:3]"
   ]
  },
  {
   "cell_type": "code",
   "execution_count": 48,
   "metadata": {
    "collapsed": false
   },
   "outputs": [],
   "source": [
    "data['q4'] = data['score'].str[3:4]"
   ]
  },
  {
   "cell_type": "code",
   "execution_count": 50,
   "metadata": {
    "collapsed": false
   },
   "outputs": [
    {
     "data": {
      "text/html": [
       "<div>\n",
       "<table border=\"1\" class=\"dataframe\">\n",
       "  <thead>\n",
       "    <tr style=\"text-align: right;\">\n",
       "      <th></th>\n",
       "      <th>Name</th>\n",
       "      <th>score</th>\n",
       "      <th>words</th>\n",
       "      <th>q1</th>\n",
       "      <th>q2</th>\n",
       "      <th>q3</th>\n",
       "      <th>q4</th>\n",
       "    </tr>\n",
       "  </thead>\n",
       "  <tbody>\n",
       "    <tr>\n",
       "      <th>0</th>\n",
       "      <td>Deshawn</td>\n",
       "      <td>3421</td>\n",
       "      <td>urxssckvpjlkvgjtuupy</td>\n",
       "      <td>3</td>\n",
       "      <td>4</td>\n",
       "      <td>2</td>\n",
       "      <td>1</td>\n",
       "    </tr>\n",
       "    <tr>\n",
       "      <th>1</th>\n",
       "      <td>Irene</td>\n",
       "      <td>4122</td>\n",
       "      <td>gvxcconryjuuancxnjne</td>\n",
       "      <td>4</td>\n",
       "      <td>1</td>\n",
       "      <td>2</td>\n",
       "      <td>2</td>\n",
       "    </tr>\n",
       "    <tr>\n",
       "      <th>2</th>\n",
       "      <td>Kamden</td>\n",
       "      <td>2100</td>\n",
       "      <td>isvvysvsghxveggcvbtb</td>\n",
       "      <td>2</td>\n",
       "      <td>1</td>\n",
       "      <td>0</td>\n",
       "      <td>0</td>\n",
       "    </tr>\n",
       "    <tr>\n",
       "      <th>3</th>\n",
       "      <td>Jaylah</td>\n",
       "      <td>0142</td>\n",
       "      <td>ishjknrkycvifsysiugo</td>\n",
       "      <td>0</td>\n",
       "      <td>1</td>\n",
       "      <td>4</td>\n",
       "      <td>2</td>\n",
       "    </tr>\n",
       "    <tr>\n",
       "      <th>4</th>\n",
       "      <td>Aryana</td>\n",
       "      <td>2201</td>\n",
       "      <td>tjfucaedndkjnaaxqcgk</td>\n",
       "      <td>2</td>\n",
       "      <td>2</td>\n",
       "      <td>0</td>\n",
       "      <td>1</td>\n",
       "    </tr>\n",
       "  </tbody>\n",
       "</table>\n",
       "</div>"
      ],
      "text/plain": [
       "      Name score                 words q1 q2 q3 q4\n",
       "0  Deshawn  3421  urxssckvpjlkvgjtuupy  3  4  2  1\n",
       "1    Irene  4122  gvxcconryjuuancxnjne  4  1  2  2\n",
       "2   Kamden  2100  isvvysvsghxveggcvbtb  2  1  0  0\n",
       "3   Jaylah  0142  ishjknrkycvifsysiugo  0  1  4  2\n",
       "4   Aryana  2201  tjfucaedndkjnaaxqcgk  2  2  0  1"
      ]
     },
     "execution_count": 50,
     "metadata": {},
     "output_type": "execute_result"
    }
   ],
   "source": [
    "data.head()"
   ]
  },
  {
   "cell_type": "code",
   "execution_count": 53,
   "metadata": {
    "collapsed": false
   },
   "outputs": [
    {
     "data": {
      "text/plain": [
       "Name     object\n",
       "score    object\n",
       "words    object\n",
       "q1       object\n",
       "q2       object\n",
       "q3       object\n",
       "q4       object\n",
       "dtype: object"
      ]
     },
     "execution_count": 53,
     "metadata": {},
     "output_type": "execute_result"
    }
   ],
   "source": [
    "data.dtypes"
   ]
  },
  {
   "cell_type": "code",
   "execution_count": 54,
   "metadata": {
    "collapsed": true
   },
   "outputs": [],
   "source": [
    "data['q1'] = pd.to_numeric(data['q1'])"
   ]
  },
  {
   "cell_type": "code",
   "execution_count": 55,
   "metadata": {
    "collapsed": false
   },
   "outputs": [
    {
     "data": {
      "text/plain": [
       "Name     object\n",
       "score    object\n",
       "words    object\n",
       "q1        int64\n",
       "q2       object\n",
       "q3       object\n",
       "q4       object\n",
       "dtype: object"
      ]
     },
     "execution_count": 55,
     "metadata": {},
     "output_type": "execute_result"
    }
   ],
   "source": [
    "data.dtypes"
   ]
  },
  {
   "cell_type": "code",
   "execution_count": 56,
   "metadata": {
    "collapsed": true
   },
   "outputs": [],
   "source": [
    "data['q2'] = pd.to_numeric(data['q2'])"
   ]
  },
  {
   "cell_type": "code",
   "execution_count": 57,
   "metadata": {
    "collapsed": true
   },
   "outputs": [],
   "source": [
    "data['q3'] = pd.to_numeric(data['q3'])"
   ]
  },
  {
   "cell_type": "code",
   "execution_count": 58,
   "metadata": {
    "collapsed": true
   },
   "outputs": [],
   "source": [
    "data['q4'] = pd.to_numeric(data['q4'])"
   ]
  },
  {
   "cell_type": "code",
   "execution_count": 59,
   "metadata": {
    "collapsed": false
   },
   "outputs": [
    {
     "data": {
      "text/plain": [
       "Name     object\n",
       "score    object\n",
       "words    object\n",
       "q1        int64\n",
       "q2        int64\n",
       "q3        int64\n",
       "q4        int64\n",
       "dtype: object"
      ]
     },
     "execution_count": 59,
     "metadata": {},
     "output_type": "execute_result"
    }
   ],
   "source": [
    "data.dtypes"
   ]
  },
  {
   "cell_type": "code",
   "execution_count": 62,
   "metadata": {
    "collapsed": false
   },
   "outputs": [],
   "source": [
    "data['sum'] = data.sum(axis=1)"
   ]
  },
  {
   "cell_type": "code",
   "execution_count": 63,
   "metadata": {
    "collapsed": false
   },
   "outputs": [
    {
     "data": {
      "text/html": [
       "<div>\n",
       "<table border=\"1\" class=\"dataframe\">\n",
       "  <thead>\n",
       "    <tr style=\"text-align: right;\">\n",
       "      <th></th>\n",
       "      <th>Name</th>\n",
       "      <th>score</th>\n",
       "      <th>words</th>\n",
       "      <th>q1</th>\n",
       "      <th>q2</th>\n",
       "      <th>q3</th>\n",
       "      <th>q4</th>\n",
       "      <th>sum</th>\n",
       "    </tr>\n",
       "  </thead>\n",
       "  <tbody>\n",
       "    <tr>\n",
       "      <th>0</th>\n",
       "      <td>Deshawn</td>\n",
       "      <td>3421</td>\n",
       "      <td>urxssckvpjlkvgjtuupy</td>\n",
       "      <td>3</td>\n",
       "      <td>4</td>\n",
       "      <td>2</td>\n",
       "      <td>1</td>\n",
       "      <td>20</td>\n",
       "    </tr>\n",
       "    <tr>\n",
       "      <th>1</th>\n",
       "      <td>Irene</td>\n",
       "      <td>4122</td>\n",
       "      <td>gvxcconryjuuancxnjne</td>\n",
       "      <td>4</td>\n",
       "      <td>1</td>\n",
       "      <td>2</td>\n",
       "      <td>2</td>\n",
       "      <td>18</td>\n",
       "    </tr>\n",
       "    <tr>\n",
       "      <th>2</th>\n",
       "      <td>Kamden</td>\n",
       "      <td>2100</td>\n",
       "      <td>isvvysvsghxveggcvbtb</td>\n",
       "      <td>2</td>\n",
       "      <td>1</td>\n",
       "      <td>0</td>\n",
       "      <td>0</td>\n",
       "      <td>6</td>\n",
       "    </tr>\n",
       "    <tr>\n",
       "      <th>3</th>\n",
       "      <td>Jaylah</td>\n",
       "      <td>0142</td>\n",
       "      <td>ishjknrkycvifsysiugo</td>\n",
       "      <td>0</td>\n",
       "      <td>1</td>\n",
       "      <td>4</td>\n",
       "      <td>2</td>\n",
       "      <td>14</td>\n",
       "    </tr>\n",
       "    <tr>\n",
       "      <th>4</th>\n",
       "      <td>Aryana</td>\n",
       "      <td>2201</td>\n",
       "      <td>tjfucaedndkjnaaxqcgk</td>\n",
       "      <td>2</td>\n",
       "      <td>2</td>\n",
       "      <td>0</td>\n",
       "      <td>1</td>\n",
       "      <td>10</td>\n",
       "    </tr>\n",
       "    <tr>\n",
       "      <th>5</th>\n",
       "      <td>Jorden</td>\n",
       "      <td>0121</td>\n",
       "      <td>davhmousydeqjhkvbdhv</td>\n",
       "      <td>0</td>\n",
       "      <td>1</td>\n",
       "      <td>2</td>\n",
       "      <td>1</td>\n",
       "      <td>8</td>\n",
       "    </tr>\n",
       "    <tr>\n",
       "      <th>6</th>\n",
       "      <td>Tenley</td>\n",
       "      <td>2053</td>\n",
       "      <td>ijyumwmrnkdbolqhfwwb</td>\n",
       "      <td>2</td>\n",
       "      <td>0</td>\n",
       "      <td>5</td>\n",
       "      <td>3</td>\n",
       "      <td>20</td>\n",
       "    </tr>\n",
       "    <tr>\n",
       "      <th>7</th>\n",
       "      <td>Quentin</td>\n",
       "      <td>4501</td>\n",
       "      <td>draajvhkhspukterfcxm</td>\n",
       "      <td>4</td>\n",
       "      <td>5</td>\n",
       "      <td>0</td>\n",
       "      <td>1</td>\n",
       "      <td>20</td>\n",
       "    </tr>\n",
       "    <tr>\n",
       "      <th>8</th>\n",
       "      <td>Terrell</td>\n",
       "      <td>1220</td>\n",
       "      <td>tnallthkodzjdvhqmedj</td>\n",
       "      <td>1</td>\n",
       "      <td>2</td>\n",
       "      <td>2</td>\n",
       "      <td>0</td>\n",
       "      <td>10</td>\n",
       "    </tr>\n",
       "    <tr>\n",
       "      <th>9</th>\n",
       "      <td>Conner</td>\n",
       "      <td>3200</td>\n",
       "      <td>moybfvxrpdkgtrznjvcd</td>\n",
       "      <td>3</td>\n",
       "      <td>2</td>\n",
       "      <td>0</td>\n",
       "      <td>0</td>\n",
       "      <td>10</td>\n",
       "    </tr>\n",
       "    <tr>\n",
       "      <th>10</th>\n",
       "      <td>Simon</td>\n",
       "      <td>3253</td>\n",
       "      <td>qiszqetptobpynxaebnu</td>\n",
       "      <td>3</td>\n",
       "      <td>2</td>\n",
       "      <td>5</td>\n",
       "      <td>3</td>\n",
       "      <td>26</td>\n",
       "    </tr>\n",
       "    <tr>\n",
       "      <th>11</th>\n",
       "      <td>Halle</td>\n",
       "      <td>1522</td>\n",
       "      <td>xenbicjxnhwcxcwrajpu</td>\n",
       "      <td>1</td>\n",
       "      <td>5</td>\n",
       "      <td>2</td>\n",
       "      <td>2</td>\n",
       "      <td>20</td>\n",
       "    </tr>\n",
       "    <tr>\n",
       "      <th>12</th>\n",
       "      <td>Leyla</td>\n",
       "      <td>4252</td>\n",
       "      <td>ghntkmvhajtubepbrmxy</td>\n",
       "      <td>4</td>\n",
       "      <td>2</td>\n",
       "      <td>5</td>\n",
       "      <td>2</td>\n",
       "      <td>26</td>\n",
       "    </tr>\n",
       "    <tr>\n",
       "      <th>13</th>\n",
       "      <td>Lylah</td>\n",
       "      <td>3430</td>\n",
       "      <td>lcpnskmxswcasuqzaavm</td>\n",
       "      <td>3</td>\n",
       "      <td>4</td>\n",
       "      <td>3</td>\n",
       "      <td>0</td>\n",
       "      <td>20</td>\n",
       "    </tr>\n",
       "    <tr>\n",
       "      <th>14</th>\n",
       "      <td>Cynthia</td>\n",
       "      <td>3123</td>\n",
       "      <td>dkdcstwcgsyjigawxiql</td>\n",
       "      <td>3</td>\n",
       "      <td>1</td>\n",
       "      <td>2</td>\n",
       "      <td>3</td>\n",
       "      <td>18</td>\n",
       "    </tr>\n",
       "    <tr>\n",
       "      <th>15</th>\n",
       "      <td>Brendon</td>\n",
       "      <td>5210</td>\n",
       "      <td>wpnkeqdnlrptjxbjujvp</td>\n",
       "      <td>5</td>\n",
       "      <td>2</td>\n",
       "      <td>1</td>\n",
       "      <td>0</td>\n",
       "      <td>16</td>\n",
       "    </tr>\n",
       "    <tr>\n",
       "      <th>16</th>\n",
       "      <td>Miley</td>\n",
       "      <td>3213</td>\n",
       "      <td>mpdtcjzsxnxzkgiwisuv</td>\n",
       "      <td>3</td>\n",
       "      <td>2</td>\n",
       "      <td>1</td>\n",
       "      <td>3</td>\n",
       "      <td>18</td>\n",
       "    </tr>\n",
       "    <tr>\n",
       "      <th>17</th>\n",
       "      <td>Louis</td>\n",
       "      <td>1530</td>\n",
       "      <td>efwjapjaogperczqvqbc</td>\n",
       "      <td>1</td>\n",
       "      <td>5</td>\n",
       "      <td>3</td>\n",
       "      <td>0</td>\n",
       "      <td>18</td>\n",
       "    </tr>\n",
       "    <tr>\n",
       "      <th>18</th>\n",
       "      <td>Fiona</td>\n",
       "      <td>1033</td>\n",
       "      <td>imhsjmiqpplmjimfszlj</td>\n",
       "      <td>1</td>\n",
       "      <td>0</td>\n",
       "      <td>3</td>\n",
       "      <td>3</td>\n",
       "      <td>14</td>\n",
       "    </tr>\n",
       "    <tr>\n",
       "      <th>19</th>\n",
       "      <td>Julio</td>\n",
       "      <td>2533</td>\n",
       "      <td>vhgraneccflmfppmmppz</td>\n",
       "      <td>2</td>\n",
       "      <td>5</td>\n",
       "      <td>3</td>\n",
       "      <td>3</td>\n",
       "      <td>26</td>\n",
       "    </tr>\n",
       "    <tr>\n",
       "      <th>20</th>\n",
       "      <td>Aurora</td>\n",
       "      <td>3331</td>\n",
       "      <td>wpogizjfzgaelopwllgw</td>\n",
       "      <td>3</td>\n",
       "      <td>3</td>\n",
       "      <td>3</td>\n",
       "      <td>1</td>\n",
       "      <td>20</td>\n",
       "    </tr>\n",
       "    <tr>\n",
       "      <th>21</th>\n",
       "      <td>Ximena</td>\n",
       "      <td>5321</td>\n",
       "      <td>jqrybhedzsgnsyxzdmju</td>\n",
       "      <td>5</td>\n",
       "      <td>3</td>\n",
       "      <td>2</td>\n",
       "      <td>1</td>\n",
       "      <td>22</td>\n",
       "    </tr>\n",
       "    <tr>\n",
       "      <th>22</th>\n",
       "      <td>Osvaldo</td>\n",
       "      <td>1111</td>\n",
       "      <td>xzbmenjwwzeuhsvnulkr</td>\n",
       "      <td>1</td>\n",
       "      <td>1</td>\n",
       "      <td>1</td>\n",
       "      <td>1</td>\n",
       "      <td>8</td>\n",
       "    </tr>\n",
       "    <tr>\n",
       "      <th>23</th>\n",
       "      <td>Kade</td>\n",
       "      <td>2323</td>\n",
       "      <td>woszhcswjimwawwvuily</td>\n",
       "      <td>2</td>\n",
       "      <td>3</td>\n",
       "      <td>2</td>\n",
       "      <td>3</td>\n",
       "      <td>20</td>\n",
       "    </tr>\n",
       "  </tbody>\n",
       "</table>\n",
       "</div>"
      ],
      "text/plain": [
       "       Name score                 words  q1  q2  q3  q4  sum\n",
       "0   Deshawn  3421  urxssckvpjlkvgjtuupy   3   4   2   1   20\n",
       "1     Irene  4122  gvxcconryjuuancxnjne   4   1   2   2   18\n",
       "2    Kamden  2100  isvvysvsghxveggcvbtb   2   1   0   0    6\n",
       "3    Jaylah  0142  ishjknrkycvifsysiugo   0   1   4   2   14\n",
       "4    Aryana  2201  tjfucaedndkjnaaxqcgk   2   2   0   1   10\n",
       "5    Jorden  0121  davhmousydeqjhkvbdhv   0   1   2   1    8\n",
       "6    Tenley  2053  ijyumwmrnkdbolqhfwwb   2   0   5   3   20\n",
       "7   Quentin  4501  draajvhkhspukterfcxm   4   5   0   1   20\n",
       "8   Terrell  1220  tnallthkodzjdvhqmedj   1   2   2   0   10\n",
       "9    Conner  3200  moybfvxrpdkgtrznjvcd   3   2   0   0   10\n",
       "10    Simon  3253  qiszqetptobpynxaebnu   3   2   5   3   26\n",
       "11    Halle  1522  xenbicjxnhwcxcwrajpu   1   5   2   2   20\n",
       "12    Leyla  4252  ghntkmvhajtubepbrmxy   4   2   5   2   26\n",
       "13    Lylah  3430  lcpnskmxswcasuqzaavm   3   4   3   0   20\n",
       "14  Cynthia  3123  dkdcstwcgsyjigawxiql   3   1   2   3   18\n",
       "15  Brendon  5210  wpnkeqdnlrptjxbjujvp   5   2   1   0   16\n",
       "16    Miley  3213  mpdtcjzsxnxzkgiwisuv   3   2   1   3   18\n",
       "17    Louis  1530  efwjapjaogperczqvqbc   1   5   3   0   18\n",
       "18    Fiona  1033  imhsjmiqpplmjimfszlj   1   0   3   3   14\n",
       "19    Julio  2533  vhgraneccflmfppmmppz   2   5   3   3   26\n",
       "20   Aurora  3331  wpogizjfzgaelopwllgw   3   3   3   1   20\n",
       "21   Ximena  5321  jqrybhedzsgnsyxzdmju   5   3   2   1   22\n",
       "22  Osvaldo  1111  xzbmenjwwzeuhsvnulkr   1   1   1   1    8\n",
       "23     Kade  2323  woszhcswjimwawwvuily   2   3   2   3   20"
      ]
     },
     "execution_count": 63,
     "metadata": {},
     "output_type": "execute_result"
    }
   ],
   "source": [
    "data"
   ]
  },
  {
   "cell_type": "code",
   "execution_count": 64,
   "metadata": {
    "collapsed": false
   },
   "outputs": [
    {
     "data": {
      "text/plain": [
       "Name     DeshawnIreneKamdenJaylahAryanaJordenTenleyQuen...\n",
       "score    3421412221000142220101212053450112203200325315...\n",
       "words    urxssckvpjlkvgjtuupygvxcconryjuuancxnjneisvvys...\n",
       "q1                                                      58\n",
       "q2                                                      57\n",
       "q3                                                      53\n",
       "q4                                                      36\n",
       "sum                                                    408\n",
       "dtype: object"
      ]
     },
     "execution_count": 64,
     "metadata": {},
     "output_type": "execute_result"
    }
   ],
   "source": [
    "data.sum(axis=0)"
   ]
  },
  {
   "cell_type": "code",
   "execution_count": 65,
   "metadata": {
    "collapsed": false
   },
   "outputs": [
    {
     "data": {
      "text/plain": [
       "204"
      ]
     },
     "execution_count": 65,
     "metadata": {},
     "output_type": "execute_result"
    }
   ],
   "source": [
    "58+57+53+36"
   ]
  },
  {
   "cell_type": "code",
   "execution_count": 2,
   "metadata": {
    "collapsed": false
   },
   "outputs": [
    {
     "data": {
      "text/plain": [
       "14.809999999999999"
      ]
     },
     "execution_count": 2,
     "metadata": {},
     "output_type": "execute_result"
    }
   ],
   "source": [
    "6.81+8"
   ]
  },
  {
   "cell_type": "code",
   "execution_count": 1,
   "metadata": {
    "collapsed": false
   },
   "outputs": [
    {
     "data": {
      "text/plain": [
       "457.61199999999997"
      ]
     },
     "execution_count": 1,
     "metadata": {},
     "output_type": "execute_result"
    }
   ],
   "source": [
    "13.76*9.25+3.7*17.36+10*17.36+10*9.25"
   ]
  },
  {
   "cell_type": "markdown",
   "metadata": {},
   "source": []
  },
  {
   "cell_type": "code",
   "execution_count": 1,
   "metadata": {
    "collapsed": false
   },
   "outputs": [
    {
     "data": {
      "text/plain": [
       "9.129999999999999"
      ]
     },
     "execution_count": 1,
     "metadata": {},
     "output_type": "execute_result"
    }
   ],
   "source": [
    "6+7.08+1.75-3.7-2"
   ]
  },
  {
   "cell_type": "code",
   "execution_count": 1,
   "metadata": {
    "collapsed": false
   },
   "outputs": [
    {
     "data": {
      "text/plain": [
       "510.12680000000006"
      ]
     },
     "execution_count": 1,
     "metadata": {},
     "output_type": "execute_result"
    }
   ],
   "source": [
    "(9.13+5+3)*17.36+23*9.25\n"
   ]
  },
  {
   "cell_type": "code",
   "execution_count": 3,
   "metadata": {
    "collapsed": false
   },
   "outputs": [
    {
     "data": {
      "text/plain": [
       "172.96"
      ]
     },
     "execution_count": 3,
     "metadata": {},
     "output_type": "execute_result"
    }
   ],
   "source": [
    "92.0/(100.0/188)"
   ]
  },
  {
   "cell_type": "code",
   "execution_count": null,
   "metadata": {
    "collapsed": true
   },
   "outputs": [],
   "source": [
    "2"
   ]
  },
  {
   "cell_type": "code",
   "execution_count": null,
   "metadata": {
    "collapsed": true
   },
   "outputs": [],
   "source": []
  },
  {
   "cell_type": "code",
   "execution_count": 3,
   "metadata": {
    "collapsed": false
   },
   "outputs": [],
   "source": [
    "mean = [0, 0]\n",
    "cov = [[1, -0.5], [-0.5, 1]]"
   ]
  },
  {
   "cell_type": "code",
   "execution_count": 4,
   "metadata": {
    "collapsed": false
   },
   "outputs": [],
   "source": [
    "x, y = np.random.multivariate_normal(mean, cov, 5000).T"
   ]
  },
  {
   "cell_type": "code",
   "execution_count": 5,
   "metadata": {
    "collapsed": false
   },
   "outputs": [
    {
     "data": {
      "text/plain": [
       "[<matplotlib.lines.Line2D at 0x1137855d0>]"
      ]
     },
     "execution_count": 5,
     "metadata": {},
     "output_type": "execute_result"
    }
   ],
   "source": [
    "plt.plot(x, y, 'x')"
   ]
  },
  {
   "cell_type": "code",
   "execution_count": 7,
   "metadata": {
    "collapsed": true
   },
   "outputs": [],
   "source": [
    "plt.show()"
   ]
  },
  {
   "cell_type": "code",
   "execution_count": 20,
   "metadata": {
    "collapsed": true
   },
   "outputs": [],
   "source": [
    "t = ('a', 'b', 'c', 'd', 'e')"
   ]
  },
  {
   "cell_type": "code",
   "execution_count": 21,
   "metadata": {
    "collapsed": false
   },
   "outputs": [
    {
     "data": {
      "text/plain": [
       "tuple"
      ]
     },
     "execution_count": 21,
     "metadata": {},
     "output_type": "execute_result"
    }
   ],
   "source": [
    "type(t)"
   ]
  },
  {
   "cell_type": "code",
   "execution_count": 16,
   "metadata": {
    "collapsed": false
   },
   "outputs": [
    {
     "data": {
      "text/plain": [
       "1.6448536269514722"
      ]
     },
     "execution_count": 16,
     "metadata": {},
     "output_type": "execute_result"
    }
   ],
   "source": [
    "st.norm.ppf(.95)"
   ]
  },
  {
   "cell_type": "code",
   "execution_count": null,
   "metadata": {
    "collapsed": true
   },
   "outputs": [],
   "source": []
  },
  {
   "cell_type": "code",
   "execution_count": 8,
   "metadata": {
    "collapsed": false
   },
   "outputs": [
    {
     "data": {
      "text/plain": [
       "0.94949741652589625"
      ]
     },
     "execution_count": 8,
     "metadata": {},
     "output_type": "execute_result"
    }
   ],
   "source": [
    "st.norm.cdf(1.64)"
   ]
  },
  {
   "cell_type": "code",
   "execution_count": 27,
   "metadata": {
    "collapsed": false
   },
   "outputs": [
    {
     "data": {
      "text/plain": [
       "1.0"
      ]
     },
     "execution_count": 27,
     "metadata": {},
     "output_type": "execute_result"
    }
   ],
   "source": [
    "st.norm.cdf(18.25)"
   ]
  },
  {
   "cell_type": "code",
   "execution_count": 40,
   "metadata": {
    "collapsed": false
   },
   "outputs": [],
   "source": [
    "a = ((50.0/400.0)-0.1)/(np.sqrt(0.1*0.9/400))"
   ]
  },
  {
   "cell_type": "code",
   "execution_count": 41,
   "metadata": {
    "collapsed": false
   },
   "outputs": [
    {
     "data": {
      "text/plain": [
       "0.95220964772718519"
      ]
     },
     "execution_count": 41,
     "metadata": {},
     "output_type": "execute_result"
    }
   ],
   "source": [
    "st.norm.cdf(a)"
   ]
  },
  {
   "cell_type": "code",
   "execution_count": 44,
   "metadata": {
    "collapsed": false
   },
   "outputs": [
    {
     "data": {
      "text/plain": [
       "1.6666666666666661"
      ]
     },
     "execution_count": 44,
     "metadata": {},
     "output_type": "execute_result"
    }
   ],
   "source": [
    "a"
   ]
  },
  {
   "cell_type": "code",
   "execution_count": 42,
   "metadata": {
    "collapsed": false
   },
   "outputs": [
    {
     "data": {
      "text/plain": [
       "0.125"
      ]
     },
     "execution_count": 42,
     "metadata": {},
     "output_type": "execute_result"
    }
   ],
   "source": [
    "50.0/400"
   ]
  },
  {
   "cell_type": "code",
   "execution_count": 43,
   "metadata": {
    "collapsed": false
   },
   "outputs": [
    {
     "data": {
      "text/plain": [
       "0.015000000000000001"
      ]
     },
     "execution_count": 43,
     "metadata": {},
     "output_type": "execute_result"
    }
   ],
   "source": [
    "np.sqrt(0.1*0.9/400)"
   ]
  },
  {
   "cell_type": "code",
   "execution_count": 7,
   "metadata": {
    "collapsed": false
   },
   "outputs": [],
   "source": [
    "a = 0.97*(0.04**2)+0.03*(0.98**2)"
   ]
  },
  {
   "cell_type": "code",
   "execution_count": 8,
   "metadata": {
    "collapsed": false
   },
   "outputs": [
    {
     "data": {
      "text/plain": [
       "0.030364"
      ]
     },
     "execution_count": 8,
     "metadata": {},
     "output_type": "execute_result"
    }
   ],
   "source": [
    "a\n"
   ]
  },
  {
   "cell_type": "code",
   "execution_count": 9,
   "metadata": {
    "collapsed": false
   },
   "outputs": [],
   "source": [
    "b = 0.03*(0.98**2)\n"
   ]
  },
  {
   "cell_type": "code",
   "execution_count": 10,
   "metadata": {
    "collapsed": false
   },
   "outputs": [
    {
     "data": {
      "text/plain": [
       "0.028811999999999997"
      ]
     },
     "execution_count": 10,
     "metadata": {},
     "output_type": "execute_result"
    }
   ],
   "source": [
    "b"
   ]
  },
  {
   "cell_type": "code",
   "execution_count": 11,
   "metadata": {
    "collapsed": false
   },
   "outputs": [
    {
     "data": {
      "text/plain": [
       "0.9488868396785667"
      ]
     },
     "execution_count": 11,
     "metadata": {},
     "output_type": "execute_result"
    }
   ],
   "source": [
    "b/a\n"
   ]
  },
  {
   "cell_type": "code",
   "execution_count": 14,
   "metadata": {
    "collapsed": false
   },
   "outputs": [],
   "source": [
    "df = pd.DataFrame(np.random.randn(5, 3), index=['a', 'c', 'e', 'f', 'h'], columns=['one', 'two', 'three'])"
   ]
  },
  {
   "cell_type": "code",
   "execution_count": 15,
   "metadata": {
    "collapsed": false
   },
   "outputs": [
    {
     "data": {
      "text/html": [
       "<div>\n",
       "<table border=\"1\" class=\"dataframe\">\n",
       "  <thead>\n",
       "    <tr style=\"text-align: right;\">\n",
       "      <th></th>\n",
       "      <th>one</th>\n",
       "      <th>two</th>\n",
       "      <th>three</th>\n",
       "    </tr>\n",
       "  </thead>\n",
       "  <tbody>\n",
       "    <tr>\n",
       "      <th>a</th>\n",
       "      <td>1.480078</td>\n",
       "      <td>0.023553</td>\n",
       "      <td>1.161431</td>\n",
       "    </tr>\n",
       "    <tr>\n",
       "      <th>c</th>\n",
       "      <td>-0.359561</td>\n",
       "      <td>0.775614</td>\n",
       "      <td>0.860942</td>\n",
       "    </tr>\n",
       "    <tr>\n",
       "      <th>e</th>\n",
       "      <td>0.969852</td>\n",
       "      <td>-0.681149</td>\n",
       "      <td>-0.117053</td>\n",
       "    </tr>\n",
       "    <tr>\n",
       "      <th>f</th>\n",
       "      <td>1.977960</td>\n",
       "      <td>-0.116887</td>\n",
       "      <td>1.139708</td>\n",
       "    </tr>\n",
       "    <tr>\n",
       "      <th>h</th>\n",
       "      <td>2.183029</td>\n",
       "      <td>-1.446567</td>\n",
       "      <td>0.025748</td>\n",
       "    </tr>\n",
       "  </tbody>\n",
       "</table>\n",
       "</div>"
      ],
      "text/plain": [
       "        one       two     three\n",
       "a  1.480078  0.023553  1.161431\n",
       "c -0.359561  0.775614  0.860942\n",
       "e  0.969852 -0.681149 -0.117053\n",
       "f  1.977960 -0.116887  1.139708\n",
       "h  2.183029 -1.446567  0.025748"
      ]
     },
     "execution_count": 15,
     "metadata": {},
     "output_type": "execute_result"
    }
   ],
   "source": [
    "df\n"
   ]
  },
  {
   "cell_type": "code",
   "execution_count": 24,
   "metadata": {
    "collapsed": false
   },
   "outputs": [],
   "source": [
    "df['avg'] = df[['one', 'two', 'three']].mean(axis = 1)"
   ]
  },
  {
   "cell_type": "code",
   "execution_count": 25,
   "metadata": {
    "collapsed": false
   },
   "outputs": [
    {
     "data": {
      "text/html": [
       "<div>\n",
       "<table border=\"1\" class=\"dataframe\">\n",
       "  <thead>\n",
       "    <tr style=\"text-align: right;\">\n",
       "      <th></th>\n",
       "      <th>one</th>\n",
       "      <th>two</th>\n",
       "      <th>three</th>\n",
       "      <th>avg</th>\n",
       "    </tr>\n",
       "  </thead>\n",
       "  <tbody>\n",
       "    <tr>\n",
       "      <th>a</th>\n",
       "      <td>1.480078</td>\n",
       "      <td>0.023553</td>\n",
       "      <td>1.161431</td>\n",
       "      <td>0.888354</td>\n",
       "    </tr>\n",
       "    <tr>\n",
       "      <th>c</th>\n",
       "      <td>-0.359561</td>\n",
       "      <td>0.775614</td>\n",
       "      <td>0.860942</td>\n",
       "      <td>0.425665</td>\n",
       "    </tr>\n",
       "    <tr>\n",
       "      <th>e</th>\n",
       "      <td>0.969852</td>\n",
       "      <td>-0.681149</td>\n",
       "      <td>-0.117053</td>\n",
       "      <td>0.057216</td>\n",
       "    </tr>\n",
       "    <tr>\n",
       "      <th>f</th>\n",
       "      <td>1.977960</td>\n",
       "      <td>-0.116887</td>\n",
       "      <td>1.139708</td>\n",
       "      <td>1.000260</td>\n",
       "    </tr>\n",
       "    <tr>\n",
       "      <th>h</th>\n",
       "      <td>2.183029</td>\n",
       "      <td>-1.446567</td>\n",
       "      <td>0.025748</td>\n",
       "      <td>0.254070</td>\n",
       "    </tr>\n",
       "  </tbody>\n",
       "</table>\n",
       "</div>"
      ],
      "text/plain": [
       "        one       two     three       avg\n",
       "a  1.480078  0.023553  1.161431  0.888354\n",
       "c -0.359561  0.775614  0.860942  0.425665\n",
       "e  0.969852 -0.681149 -0.117053  0.057216\n",
       "f  1.977960 -0.116887  1.139708  1.000260\n",
       "h  2.183029 -1.446567  0.025748  0.254070"
      ]
     },
     "execution_count": 25,
     "metadata": {},
     "output_type": "execute_result"
    }
   ],
   "source": [
    "df\n"
   ]
  },
  {
   "cell_type": "code",
   "execution_count": 26,
   "metadata": {
    "collapsed": true
   },
   "outputs": [],
   "source": [
    "df2 = df.reindex(['a', 'b', 'c', 'd', 'e', 'f', 'g', 'h'])"
   ]
  },
  {
   "cell_type": "code",
   "execution_count": 27,
   "metadata": {
    "collapsed": false
   },
   "outputs": [
    {
     "data": {
      "text/html": [
       "<div>\n",
       "<table border=\"1\" class=\"dataframe\">\n",
       "  <thead>\n",
       "    <tr style=\"text-align: right;\">\n",
       "      <th></th>\n",
       "      <th>one</th>\n",
       "      <th>two</th>\n",
       "      <th>three</th>\n",
       "      <th>avg</th>\n",
       "    </tr>\n",
       "  </thead>\n",
       "  <tbody>\n",
       "    <tr>\n",
       "      <th>a</th>\n",
       "      <td>1.480078</td>\n",
       "      <td>0.023553</td>\n",
       "      <td>1.161431</td>\n",
       "      <td>0.888354</td>\n",
       "    </tr>\n",
       "    <tr>\n",
       "      <th>b</th>\n",
       "      <td>NaN</td>\n",
       "      <td>NaN</td>\n",
       "      <td>NaN</td>\n",
       "      <td>NaN</td>\n",
       "    </tr>\n",
       "    <tr>\n",
       "      <th>c</th>\n",
       "      <td>-0.359561</td>\n",
       "      <td>0.775614</td>\n",
       "      <td>0.860942</td>\n",
       "      <td>0.425665</td>\n",
       "    </tr>\n",
       "    <tr>\n",
       "      <th>d</th>\n",
       "      <td>NaN</td>\n",
       "      <td>NaN</td>\n",
       "      <td>NaN</td>\n",
       "      <td>NaN</td>\n",
       "    </tr>\n",
       "    <tr>\n",
       "      <th>e</th>\n",
       "      <td>0.969852</td>\n",
       "      <td>-0.681149</td>\n",
       "      <td>-0.117053</td>\n",
       "      <td>0.057216</td>\n",
       "    </tr>\n",
       "    <tr>\n",
       "      <th>f</th>\n",
       "      <td>1.977960</td>\n",
       "      <td>-0.116887</td>\n",
       "      <td>1.139708</td>\n",
       "      <td>1.000260</td>\n",
       "    </tr>\n",
       "    <tr>\n",
       "      <th>g</th>\n",
       "      <td>NaN</td>\n",
       "      <td>NaN</td>\n",
       "      <td>NaN</td>\n",
       "      <td>NaN</td>\n",
       "    </tr>\n",
       "    <tr>\n",
       "      <th>h</th>\n",
       "      <td>2.183029</td>\n",
       "      <td>-1.446567</td>\n",
       "      <td>0.025748</td>\n",
       "      <td>0.254070</td>\n",
       "    </tr>\n",
       "  </tbody>\n",
       "</table>\n",
       "</div>"
      ],
      "text/plain": [
       "        one       two     three       avg\n",
       "a  1.480078  0.023553  1.161431  0.888354\n",
       "b       NaN       NaN       NaN       NaN\n",
       "c -0.359561  0.775614  0.860942  0.425665\n",
       "d       NaN       NaN       NaN       NaN\n",
       "e  0.969852 -0.681149 -0.117053  0.057216\n",
       "f  1.977960 -0.116887  1.139708  1.000260\n",
       "g       NaN       NaN       NaN       NaN\n",
       "h  2.183029 -1.446567  0.025748  0.254070"
      ]
     },
     "execution_count": 27,
     "metadata": {},
     "output_type": "execute_result"
    }
   ],
   "source": [
    "df2\n"
   ]
  },
  {
   "cell_type": "code",
   "execution_count": 28,
   "metadata": {
    "collapsed": false
   },
   "outputs": [
    {
     "data": {
      "text/plain": [
       "one      True\n",
       "two      True\n",
       "three    True\n",
       "avg      True\n",
       "dtype: bool"
      ]
     },
     "execution_count": 28,
     "metadata": {},
     "output_type": "execute_result"
    }
   ],
   "source": [
    "df2.isnull().any()"
   ]
  },
  {
   "cell_type": "code",
   "execution_count": 29,
   "metadata": {
    "collapsed": false
   },
   "outputs": [
    {
     "name": "stdout",
     "output_type": "stream",
     "text": [
      "<class 'pandas.core.frame.DataFrame'>\n",
      "Index: 8 entries, a to h\n",
      "Data columns (total 4 columns):\n",
      "one      5 non-null float64\n",
      "two      5 non-null float64\n",
      "three    5 non-null float64\n",
      "avg      5 non-null float64\n",
      "dtypes: float64(4)\n",
      "memory usage: 320.0+ bytes\n"
     ]
    }
   ],
   "source": [
    "df2.info()"
   ]
  },
  {
   "cell_type": "code",
   "execution_count": 30,
   "metadata": {
    "collapsed": false
   },
   "outputs": [
    {
     "data": {
      "text/plain": [
       "False"
      ]
     },
     "execution_count": 30,
     "metadata": {},
     "output_type": "execute_result"
    }
   ],
   "source": [
    "True in df2.isnull()"
   ]
  },
  {
   "cell_type": "code",
   "execution_count": 31,
   "metadata": {
    "collapsed": true
   },
   "outputs": [],
   "source": [
    "df3 = pd.DataFrame(np.random.randn(5, 3), index=['a', 'c', 'e', 'f', 'h'], columns=['student_id', 'exam_id', 'grade'])"
   ]
  },
  {
   "cell_type": "code",
   "execution_count": 32,
   "metadata": {
    "collapsed": false
   },
   "outputs": [
    {
     "data": {
      "text/html": [
       "<div>\n",
       "<table border=\"1\" class=\"dataframe\">\n",
       "  <thead>\n",
       "    <tr style=\"text-align: right;\">\n",
       "      <th></th>\n",
       "      <th>student_id</th>\n",
       "      <th>exam_id</th>\n",
       "      <th>grade</th>\n",
       "    </tr>\n",
       "  </thead>\n",
       "  <tbody>\n",
       "    <tr>\n",
       "      <th>a</th>\n",
       "      <td>0.478725</td>\n",
       "      <td>-0.542865</td>\n",
       "      <td>0.781455</td>\n",
       "    </tr>\n",
       "    <tr>\n",
       "      <th>c</th>\n",
       "      <td>2.106496</td>\n",
       "      <td>0.537334</td>\n",
       "      <td>-0.013116</td>\n",
       "    </tr>\n",
       "    <tr>\n",
       "      <th>e</th>\n",
       "      <td>-0.375723</td>\n",
       "      <td>-0.793454</td>\n",
       "      <td>0.859842</td>\n",
       "    </tr>\n",
       "    <tr>\n",
       "      <th>f</th>\n",
       "      <td>0.158713</td>\n",
       "      <td>1.610452</td>\n",
       "      <td>-0.050655</td>\n",
       "    </tr>\n",
       "    <tr>\n",
       "      <th>h</th>\n",
       "      <td>-1.435996</td>\n",
       "      <td>-1.444396</td>\n",
       "      <td>-0.908666</td>\n",
       "    </tr>\n",
       "  </tbody>\n",
       "</table>\n",
       "</div>"
      ],
      "text/plain": [
       "   student_id   exam_id     grade\n",
       "a    0.478725 -0.542865  0.781455\n",
       "c    2.106496  0.537334 -0.013116\n",
       "e   -0.375723 -0.793454  0.859842\n",
       "f    0.158713  1.610452 -0.050655\n",
       "h   -1.435996 -1.444396 -0.908666"
      ]
     },
     "execution_count": 32,
     "metadata": {},
     "output_type": "execute_result"
    }
   ],
   "source": [
    "df3"
   ]
  },
  {
   "cell_type": "code",
   "execution_count": 35,
   "metadata": {
    "collapsed": false
   },
   "outputs": [],
   "source": [
    "data = np.array([['','student_id','exam_id', 'grade'],\n",
    "                ['Row1',1,1,90],\n",
    "                ['Row2',3,2,89],\n",
    "                ['Row3',5,3,84],\n",
    "                ['Row4',3,4,83],\n",
    "                ['Row4',5,4,80]])\n",
    "                \n",
    "df4 = pd.DataFrame(data=data[1:,1:],\n",
    "                  index=data[1:,0],\n",
    "                  columns=data[0,1:])"
   ]
  },
  {
   "cell_type": "code",
   "execution_count": 36,
   "metadata": {
    "collapsed": false
   },
   "outputs": [
    {
     "data": {
      "text/html": [
       "<div>\n",
       "<table border=\"1\" class=\"dataframe\">\n",
       "  <thead>\n",
       "    <tr style=\"text-align: right;\">\n",
       "      <th></th>\n",
       "      <th>student_id</th>\n",
       "      <th>exam_id</th>\n",
       "      <th>grade</th>\n",
       "    </tr>\n",
       "  </thead>\n",
       "  <tbody>\n",
       "    <tr>\n",
       "      <th>Row1</th>\n",
       "      <td>1</td>\n",
       "      <td>1</td>\n",
       "      <td>90</td>\n",
       "    </tr>\n",
       "    <tr>\n",
       "      <th>Row2</th>\n",
       "      <td>3</td>\n",
       "      <td>2</td>\n",
       "      <td>89</td>\n",
       "    </tr>\n",
       "    <tr>\n",
       "      <th>Row3</th>\n",
       "      <td>5</td>\n",
       "      <td>3</td>\n",
       "      <td>84</td>\n",
       "    </tr>\n",
       "    <tr>\n",
       "      <th>Row4</th>\n",
       "      <td>3</td>\n",
       "      <td>4</td>\n",
       "      <td>83</td>\n",
       "    </tr>\n",
       "    <tr>\n",
       "      <th>Row4</th>\n",
       "      <td>5</td>\n",
       "      <td>4</td>\n",
       "      <td>80</td>\n",
       "    </tr>\n",
       "  </tbody>\n",
       "</table>\n",
       "</div>"
      ],
      "text/plain": [
       "     student_id exam_id grade\n",
       "Row1          1       1    90\n",
       "Row2          3       2    89\n",
       "Row3          5       3    84\n",
       "Row4          3       4    83\n",
       "Row4          5       4    80"
      ]
     },
     "execution_count": 36,
     "metadata": {},
     "output_type": "execute_result"
    }
   ],
   "source": [
    "df4"
   ]
  },
  {
   "cell_type": "code",
   "execution_count": 43,
   "metadata": {
    "collapsed": false
   },
   "outputs": [
    {
     "data": {
      "text/html": [
       "<div>\n",
       "<table border=\"1\" class=\"dataframe\">\n",
       "  <thead>\n",
       "    <tr style=\"text-align: right;\">\n",
       "      <th></th>\n",
       "      <th>student_id</th>\n",
       "      <th>exam_id</th>\n",
       "      <th>grade</th>\n",
       "    </tr>\n",
       "  </thead>\n",
       "  <tbody>\n",
       "  </tbody>\n",
       "</table>\n",
       "</div>"
      ],
      "text/plain": [
       "Empty DataFrame\n",
       "Columns: [student_id, exam_id, grade]\n",
       "Index: []"
      ]
     },
     "execution_count": 43,
     "metadata": {},
     "output_type": "execute_result"
    }
   ],
   "source": [
    "df4[df4['exam_id'] == 4]"
   ]
  },
  {
   "cell_type": "code",
   "execution_count": 5,
   "metadata": {
    "collapsed": true
   },
   "outputs": [],
   "source": [
    "mean = [0, 0]"
   ]
  },
  {
   "cell_type": "code",
   "execution_count": 6,
   "metadata": {
    "collapsed": true
   },
   "outputs": [],
   "source": [
    "cov = [[1, -0.5], [-0.5, 1]]"
   ]
  },
  {
   "cell_type": "code",
   "execution_count": 7,
   "metadata": {
    "collapsed": false
   },
   "outputs": [
    {
     "data": {
      "text/plain": [
       "[[1, -0.5], [-0.5, 1]]"
      ]
     },
     "execution_count": 7,
     "metadata": {},
     "output_type": "execute_result"
    }
   ],
   "source": [
    "cov"
   ]
  },
  {
   "cell_type": "code",
   "execution_count": null,
   "metadata": {
    "collapsed": false
   },
   "outputs": [],
   "source": [
    "x, y = np.random.multivariate_normal(mean, cov, 100).T\n",
    "plt.plot(x, y, 'x')\n",
    "plt.axis('equal')\n",
    "plt.show()"
   ]
  },
  {
   "cell_type": "code",
   "execution_count": 1,
   "metadata": {
    "collapsed": false
   },
   "outputs": [
    {
     "data": {
      "text/plain": [
       "519.5274999999999"
      ]
     },
     "execution_count": 1,
     "metadata": {},
     "output_type": "execute_result"
    }
   ],
   "source": [
    "(17.36*(10+6+2.5+1.5)) + 9.25*(6.63+3+5+4)"
   ]
  },
  {
   "cell_type": "code",
   "execution_count": 4,
   "metadata": {
    "collapsed": false
   },
   "outputs": [],
   "source": [
    "edu = pd.read_csv('Data/FIn305.csv')"
   ]
  },
  {
   "cell_type": "code",
   "execution_count": 5,
   "metadata": {
    "collapsed": false
   },
   "outputs": [],
   "source": [
    "edu2 = edu.fillna(99)"
   ]
  },
  {
   "cell_type": "code",
   "execution_count": 6,
   "metadata": {
    "collapsed": false
   },
   "outputs": [
    {
     "data": {
      "text/html": [
       "<div>\n",
       "<table border=\"1\" class=\"dataframe\">\n",
       "  <thead>\n",
       "    <tr style=\"text-align: right;\">\n",
       "      <th></th>\n",
       "      <th>Midterm</th>\n",
       "    </tr>\n",
       "  </thead>\n",
       "  <tbody>\n",
       "    <tr>\n",
       "      <th>count</th>\n",
       "      <td>33.000000</td>\n",
       "    </tr>\n",
       "    <tr>\n",
       "      <th>mean</th>\n",
       "      <td>111.454545</td>\n",
       "    </tr>\n",
       "    <tr>\n",
       "      <th>std</th>\n",
       "      <td>18.107907</td>\n",
       "    </tr>\n",
       "    <tr>\n",
       "      <th>min</th>\n",
       "      <td>62.000000</td>\n",
       "    </tr>\n",
       "    <tr>\n",
       "      <th>25%</th>\n",
       "      <td>99.500000</td>\n",
       "    </tr>\n",
       "    <tr>\n",
       "      <th>50%</th>\n",
       "      <td>109.500000</td>\n",
       "    </tr>\n",
       "    <tr>\n",
       "      <th>75%</th>\n",
       "      <td>124.000000</td>\n",
       "    </tr>\n",
       "    <tr>\n",
       "      <th>max</th>\n",
       "      <td>145.000000</td>\n",
       "    </tr>\n",
       "  </tbody>\n",
       "</table>\n",
       "</div>"
      ],
      "text/plain": [
       "          Midterm\n",
       "count   33.000000\n",
       "mean   111.454545\n",
       "std     18.107907\n",
       "min     62.000000\n",
       "25%     99.500000\n",
       "50%    109.500000\n",
       "75%    124.000000\n",
       "max    145.000000"
      ]
     },
     "execution_count": 6,
     "metadata": {},
     "output_type": "execute_result"
    }
   ],
   "source": [
    "edu2[['Midterm']].describe()"
   ]
  },
  {
   "cell_type": "code",
   "execution_count": 7,
   "metadata": {
    "collapsed": true
   },
   "outputs": [],
   "source": [
    "edu2.columns = ['CampusID', 'Name', 'Quiz1', 'Quiz2', 'Quiz3', 'Midterm']"
   ]
  },
  {
   "cell_type": "code",
   "execution_count": 8,
   "metadata": {
    "collapsed": false
   },
   "outputs": [
    {
     "data": {
      "text/html": [
       "<div>\n",
       "<table border=\"1\" class=\"dataframe\">\n",
       "  <thead>\n",
       "    <tr style=\"text-align: right;\">\n",
       "      <th></th>\n",
       "      <th>CampusID</th>\n",
       "      <th>Name</th>\n",
       "      <th>Quiz1</th>\n",
       "      <th>Quiz2</th>\n",
       "      <th>Quiz3</th>\n",
       "      <th>Midterm</th>\n",
       "    </tr>\n",
       "  </thead>\n",
       "  <tbody>\n",
       "    <tr>\n",
       "      <th>0</th>\n",
       "      <td>9071571039</td>\n",
       "      <td>Aronson,Zachary</td>\n",
       "      <td>10</td>\n",
       "      <td>10</td>\n",
       "      <td>10</td>\n",
       "      <td>115.0</td>\n",
       "    </tr>\n",
       "    <tr>\n",
       "      <th>1</th>\n",
       "      <td>9069931419</td>\n",
       "      <td>Austin,Patrick</td>\n",
       "      <td>8</td>\n",
       "      <td>3</td>\n",
       "      <td>10</td>\n",
       "      <td>112.0</td>\n",
       "    </tr>\n",
       "    <tr>\n",
       "      <th>2</th>\n",
       "      <td>9074004962</td>\n",
       "      <td>Bachman,Connor</td>\n",
       "      <td>10</td>\n",
       "      <td>10</td>\n",
       "      <td>10</td>\n",
       "      <td>140.0</td>\n",
       "    </tr>\n",
       "    <tr>\n",
       "      <th>3</th>\n",
       "      <td>9071159421</td>\n",
       "      <td>Baker,Kathryn</td>\n",
       "      <td>10</td>\n",
       "      <td>10</td>\n",
       "      <td>10</td>\n",
       "      <td>96.0</td>\n",
       "    </tr>\n",
       "    <tr>\n",
       "      <th>4</th>\n",
       "      <td>9071159645</td>\n",
       "      <td>Bergevain,Clay Gregory</td>\n",
       "      <td>6</td>\n",
       "      <td>10</td>\n",
       "      <td>6</td>\n",
       "      <td>98.5</td>\n",
       "    </tr>\n",
       "    <tr>\n",
       "      <th>5</th>\n",
       "      <td>9072568562</td>\n",
       "      <td>Blanch,Matt</td>\n",
       "      <td>10</td>\n",
       "      <td>10</td>\n",
       "      <td>10</td>\n",
       "      <td>118.0</td>\n",
       "    </tr>\n",
       "    <tr>\n",
       "      <th>6</th>\n",
       "      <td>9071753595</td>\n",
       "      <td>Bouse,Bridgette</td>\n",
       "      <td>6</td>\n",
       "      <td>5</td>\n",
       "      <td>10</td>\n",
       "      <td>145.0</td>\n",
       "    </tr>\n",
       "    <tr>\n",
       "      <th>7</th>\n",
       "      <td>9071525589</td>\n",
       "      <td>Bruckschen,Eric</td>\n",
       "      <td>10</td>\n",
       "      <td>2</td>\n",
       "      <td>6</td>\n",
       "      <td>122.5</td>\n",
       "    </tr>\n",
       "    <tr>\n",
       "      <th>8</th>\n",
       "      <td>9070752069</td>\n",
       "      <td>Case,Philip</td>\n",
       "      <td>8</td>\n",
       "      <td>3</td>\n",
       "      <td>6</td>\n",
       "      <td>100.5</td>\n",
       "    </tr>\n",
       "    <tr>\n",
       "      <th>9</th>\n",
       "      <td>9072600449</td>\n",
       "      <td>Coghlan,Erin</td>\n",
       "      <td>10</td>\n",
       "      <td>10</td>\n",
       "      <td>10</td>\n",
       "      <td>124.0</td>\n",
       "    </tr>\n",
       "    <tr>\n",
       "      <th>10</th>\n",
       "      <td>9078297877</td>\n",
       "      <td>Donsimoni,Laetitia Marie</td>\n",
       "      <td>9</td>\n",
       "      <td>10</td>\n",
       "      <td>10</td>\n",
       "      <td>88.5</td>\n",
       "    </tr>\n",
       "    <tr>\n",
       "      <th>11</th>\n",
       "      <td>9070798021</td>\n",
       "      <td>Garrison,Madeline</td>\n",
       "      <td>10</td>\n",
       "      <td>7</td>\n",
       "      <td>10</td>\n",
       "      <td>99.0</td>\n",
       "    </tr>\n",
       "    <tr>\n",
       "      <th>12</th>\n",
       "      <td>9072592034</td>\n",
       "      <td>Grujo,Sanja</td>\n",
       "      <td>10</td>\n",
       "      <td>10</td>\n",
       "      <td>10</td>\n",
       "      <td>97.0</td>\n",
       "    </tr>\n",
       "    <tr>\n",
       "      <th>13</th>\n",
       "      <td>9071901210</td>\n",
       "      <td>Hauge,Tyler</td>\n",
       "      <td>10</td>\n",
       "      <td>4</td>\n",
       "      <td>10</td>\n",
       "      <td>129.0</td>\n",
       "    </tr>\n",
       "    <tr>\n",
       "      <th>14</th>\n",
       "      <td>9072093298</td>\n",
       "      <td>Hepp,Nicole</td>\n",
       "      <td>10</td>\n",
       "      <td>10</td>\n",
       "      <td>10</td>\n",
       "      <td>128.0</td>\n",
       "    </tr>\n",
       "    <tr>\n",
       "      <th>15</th>\n",
       "      <td>9073426810</td>\n",
       "      <td>Hilkert,Eric</td>\n",
       "      <td>10</td>\n",
       "      <td>10</td>\n",
       "      <td>10</td>\n",
       "      <td>109.5</td>\n",
       "    </tr>\n",
       "    <tr>\n",
       "      <th>16</th>\n",
       "      <td>9070808531</td>\n",
       "      <td>Kuether,Laine</td>\n",
       "      <td>10</td>\n",
       "      <td>4</td>\n",
       "      <td>10</td>\n",
       "      <td>103.0</td>\n",
       "    </tr>\n",
       "    <tr>\n",
       "      <th>17</th>\n",
       "      <td>9071751672</td>\n",
       "      <td>Levy,Matthew Adam</td>\n",
       "      <td>10</td>\n",
       "      <td>4</td>\n",
       "      <td>10</td>\n",
       "      <td>113.5</td>\n",
       "    </tr>\n",
       "    <tr>\n",
       "      <th>18</th>\n",
       "      <td>9071350707</td>\n",
       "      <td>Longo,Madeline Claire</td>\n",
       "      <td>10</td>\n",
       "      <td>7</td>\n",
       "      <td>10</td>\n",
       "      <td>100.0</td>\n",
       "    </tr>\n",
       "    <tr>\n",
       "      <th>19</th>\n",
       "      <td>9071903182</td>\n",
       "      <td>Mazzara,Jordan Wilke</td>\n",
       "      <td>10</td>\n",
       "      <td>10</td>\n",
       "      <td>10</td>\n",
       "      <td>62.0</td>\n",
       "    </tr>\n",
       "    <tr>\n",
       "      <th>20</th>\n",
       "      <td>9071445259</td>\n",
       "      <td>Millard,Joey</td>\n",
       "      <td>10</td>\n",
       "      <td>4</td>\n",
       "      <td>10</td>\n",
       "      <td>106.5</td>\n",
       "    </tr>\n",
       "    <tr>\n",
       "      <th>21</th>\n",
       "      <td>9072604060</td>\n",
       "      <td>Nichol,Mark Kevin</td>\n",
       "      <td>8</td>\n",
       "      <td>4</td>\n",
       "      <td>10</td>\n",
       "      <td>140.0</td>\n",
       "    </tr>\n",
       "    <tr>\n",
       "      <th>22</th>\n",
       "      <td>9071374996</td>\n",
       "      <td>Nicholson,Calvin</td>\n",
       "      <td>8</td>\n",
       "      <td>5</td>\n",
       "      <td>10</td>\n",
       "      <td>131.5</td>\n",
       "    </tr>\n",
       "    <tr>\n",
       "      <th>23</th>\n",
       "      <td>9070397238</td>\n",
       "      <td>Nickels,Benjamin</td>\n",
       "      <td>6</td>\n",
       "      <td>10</td>\n",
       "      <td>5</td>\n",
       "      <td>100.0</td>\n",
       "    </tr>\n",
       "    <tr>\n",
       "      <th>24</th>\n",
       "      <td>9079190642</td>\n",
       "      <td>Qian,Chaoyang</td>\n",
       "      <td>10</td>\n",
       "      <td>7</td>\n",
       "      <td>6</td>\n",
       "      <td>130.0</td>\n",
       "    </tr>\n",
       "    <tr>\n",
       "      <th>25</th>\n",
       "      <td>9073718547</td>\n",
       "      <td>Reines,Maxwell</td>\n",
       "      <td>7</td>\n",
       "      <td>10</td>\n",
       "      <td>10</td>\n",
       "      <td>102.0</td>\n",
       "    </tr>\n",
       "    <tr>\n",
       "      <th>26</th>\n",
       "      <td>9078285468</td>\n",
       "      <td>Ros Callejo,Myriam</td>\n",
       "      <td>8</td>\n",
       "      <td>5</td>\n",
       "      <td>10</td>\n",
       "      <td>117.0</td>\n",
       "    </tr>\n",
       "    <tr>\n",
       "      <th>27</th>\n",
       "      <td>9078207603</td>\n",
       "      <td>Sabin Ulloa,Carlos</td>\n",
       "      <td>10</td>\n",
       "      <td>5</td>\n",
       "      <td>10</td>\n",
       "      <td>102.0</td>\n",
       "    </tr>\n",
       "    <tr>\n",
       "      <th>28</th>\n",
       "      <td>9071461926</td>\n",
       "      <td>Sauer,Mitchell</td>\n",
       "      <td>10</td>\n",
       "      <td>10</td>\n",
       "      <td>6</td>\n",
       "      <td>141.5</td>\n",
       "    </tr>\n",
       "    <tr>\n",
       "      <th>29</th>\n",
       "      <td>9072605414</td>\n",
       "      <td>Stocking,Ryan</td>\n",
       "      <td>10</td>\n",
       "      <td>6</td>\n",
       "      <td>10</td>\n",
       "      <td>98.0</td>\n",
       "    </tr>\n",
       "    <tr>\n",
       "      <th>30</th>\n",
       "      <td>9071441308</td>\n",
       "      <td>Stuber,Lauren</td>\n",
       "      <td>10</td>\n",
       "      <td>10</td>\n",
       "      <td>10</td>\n",
       "      <td>99.5</td>\n",
       "    </tr>\n",
       "    <tr>\n",
       "      <th>31</th>\n",
       "      <td>9070893319</td>\n",
       "      <td>Tracey,Miles</td>\n",
       "      <td>9</td>\n",
       "      <td>6</td>\n",
       "      <td>10</td>\n",
       "      <td>92.0</td>\n",
       "    </tr>\n",
       "    <tr>\n",
       "      <th>32</th>\n",
       "      <td>9069945435</td>\n",
       "      <td>Vandenack,Brett</td>\n",
       "      <td>10</td>\n",
       "      <td>4</td>\n",
       "      <td>6</td>\n",
       "      <td>117.0</td>\n",
       "    </tr>\n",
       "  </tbody>\n",
       "</table>\n",
       "</div>"
      ],
      "text/plain": [
       "      CampusID                      Name  Quiz1  Quiz2  Quiz3  Midterm\n",
       "0   9071571039           Aronson,Zachary     10     10     10    115.0\n",
       "1   9069931419            Austin,Patrick      8      3     10    112.0\n",
       "2   9074004962            Bachman,Connor     10     10     10    140.0\n",
       "3   9071159421             Baker,Kathryn     10     10     10     96.0\n",
       "4   9071159645    Bergevain,Clay Gregory      6     10      6     98.5\n",
       "5   9072568562               Blanch,Matt     10     10     10    118.0\n",
       "6   9071753595           Bouse,Bridgette      6      5     10    145.0\n",
       "7   9071525589           Bruckschen,Eric     10      2      6    122.5\n",
       "8   9070752069               Case,Philip      8      3      6    100.5\n",
       "9   9072600449              Coghlan,Erin     10     10     10    124.0\n",
       "10  9078297877  Donsimoni,Laetitia Marie      9     10     10     88.5\n",
       "11  9070798021         Garrison,Madeline     10      7     10     99.0\n",
       "12  9072592034               Grujo,Sanja     10     10     10     97.0\n",
       "13  9071901210               Hauge,Tyler     10      4     10    129.0\n",
       "14  9072093298               Hepp,Nicole     10     10     10    128.0\n",
       "15  9073426810              Hilkert,Eric     10     10     10    109.5\n",
       "16  9070808531             Kuether,Laine     10      4     10    103.0\n",
       "17  9071751672         Levy,Matthew Adam     10      4     10    113.5\n",
       "18  9071350707     Longo,Madeline Claire     10      7     10    100.0\n",
       "19  9071903182      Mazzara,Jordan Wilke     10     10     10     62.0\n",
       "20  9071445259              Millard,Joey     10      4     10    106.5\n",
       "21  9072604060         Nichol,Mark Kevin      8      4     10    140.0\n",
       "22  9071374996          Nicholson,Calvin      8      5     10    131.5\n",
       "23  9070397238          Nickels,Benjamin      6     10      5    100.0\n",
       "24  9079190642             Qian,Chaoyang     10      7      6    130.0\n",
       "25  9073718547            Reines,Maxwell      7     10     10    102.0\n",
       "26  9078285468        Ros Callejo,Myriam      8      5     10    117.0\n",
       "27  9078207603        Sabin Ulloa,Carlos     10      5     10    102.0\n",
       "28  9071461926            Sauer,Mitchell     10     10      6    141.5\n",
       "29  9072605414             Stocking,Ryan     10      6     10     98.0\n",
       "30  9071441308             Stuber,Lauren     10     10     10     99.5\n",
       "31  9070893319              Tracey,Miles      9      6     10     92.0\n",
       "32  9069945435           Vandenack,Brett     10      4      6    117.0"
      ]
     },
     "execution_count": 8,
     "metadata": {},
     "output_type": "execute_result"
    }
   ],
   "source": [
    "edu2\n"
   ]
  },
  {
   "cell_type": "code",
   "execution_count": 9,
   "metadata": {
    "collapsed": false
   },
   "outputs": [],
   "source": [
    "edu2.at[27, 'Midterm'] = 112\n",
    "edu2.at[4, 'Midterm'] = 109.5\n",
    "edu2.at[12, 'Midterm'] = 99.5\n",
    "edu2.at[30, 'Midterm'] = 100.5\n",
    "edu2.at[29, 'Midterm'] = 110\n",
    "edu2.at[19, 'Midterm'] = 66\n",
    "\n"
   ]
  },
  {
   "cell_type": "code",
   "execution_count": 10,
   "metadata": {
    "collapsed": false
   },
   "outputs": [
    {
     "data": {
      "text/html": [
       "<div>\n",
       "<table border=\"1\" class=\"dataframe\">\n",
       "  <thead>\n",
       "    <tr style=\"text-align: right;\">\n",
       "      <th></th>\n",
       "      <th>CampusID</th>\n",
       "      <th>Name</th>\n",
       "      <th>Quiz1</th>\n",
       "      <th>Quiz2</th>\n",
       "      <th>Quiz3</th>\n",
       "      <th>Midterm</th>\n",
       "    </tr>\n",
       "  </thead>\n",
       "  <tbody>\n",
       "    <tr>\n",
       "      <th>0</th>\n",
       "      <td>9071571039</td>\n",
       "      <td>Aronson,Zachary</td>\n",
       "      <td>10</td>\n",
       "      <td>10</td>\n",
       "      <td>10</td>\n",
       "      <td>115.0</td>\n",
       "    </tr>\n",
       "    <tr>\n",
       "      <th>1</th>\n",
       "      <td>9069931419</td>\n",
       "      <td>Austin,Patrick</td>\n",
       "      <td>8</td>\n",
       "      <td>3</td>\n",
       "      <td>10</td>\n",
       "      <td>112.0</td>\n",
       "    </tr>\n",
       "    <tr>\n",
       "      <th>2</th>\n",
       "      <td>9074004962</td>\n",
       "      <td>Bachman,Connor</td>\n",
       "      <td>10</td>\n",
       "      <td>10</td>\n",
       "      <td>10</td>\n",
       "      <td>140.0</td>\n",
       "    </tr>\n",
       "    <tr>\n",
       "      <th>3</th>\n",
       "      <td>9071159421</td>\n",
       "      <td>Baker,Kathryn</td>\n",
       "      <td>10</td>\n",
       "      <td>10</td>\n",
       "      <td>10</td>\n",
       "      <td>96.0</td>\n",
       "    </tr>\n",
       "    <tr>\n",
       "      <th>4</th>\n",
       "      <td>9071159645</td>\n",
       "      <td>Bergevain,Clay Gregory</td>\n",
       "      <td>6</td>\n",
       "      <td>10</td>\n",
       "      <td>6</td>\n",
       "      <td>109.5</td>\n",
       "    </tr>\n",
       "    <tr>\n",
       "      <th>5</th>\n",
       "      <td>9072568562</td>\n",
       "      <td>Blanch,Matt</td>\n",
       "      <td>10</td>\n",
       "      <td>10</td>\n",
       "      <td>10</td>\n",
       "      <td>118.0</td>\n",
       "    </tr>\n",
       "    <tr>\n",
       "      <th>6</th>\n",
       "      <td>9071753595</td>\n",
       "      <td>Bouse,Bridgette</td>\n",
       "      <td>6</td>\n",
       "      <td>5</td>\n",
       "      <td>10</td>\n",
       "      <td>145.0</td>\n",
       "    </tr>\n",
       "    <tr>\n",
       "      <th>7</th>\n",
       "      <td>9071525589</td>\n",
       "      <td>Bruckschen,Eric</td>\n",
       "      <td>10</td>\n",
       "      <td>2</td>\n",
       "      <td>6</td>\n",
       "      <td>122.5</td>\n",
       "    </tr>\n",
       "    <tr>\n",
       "      <th>8</th>\n",
       "      <td>9070752069</td>\n",
       "      <td>Case,Philip</td>\n",
       "      <td>8</td>\n",
       "      <td>3</td>\n",
       "      <td>6</td>\n",
       "      <td>100.5</td>\n",
       "    </tr>\n",
       "    <tr>\n",
       "      <th>9</th>\n",
       "      <td>9072600449</td>\n",
       "      <td>Coghlan,Erin</td>\n",
       "      <td>10</td>\n",
       "      <td>10</td>\n",
       "      <td>10</td>\n",
       "      <td>124.0</td>\n",
       "    </tr>\n",
       "    <tr>\n",
       "      <th>10</th>\n",
       "      <td>9078297877</td>\n",
       "      <td>Donsimoni,Laetitia Marie</td>\n",
       "      <td>9</td>\n",
       "      <td>10</td>\n",
       "      <td>10</td>\n",
       "      <td>88.5</td>\n",
       "    </tr>\n",
       "    <tr>\n",
       "      <th>11</th>\n",
       "      <td>9070798021</td>\n",
       "      <td>Garrison,Madeline</td>\n",
       "      <td>10</td>\n",
       "      <td>7</td>\n",
       "      <td>10</td>\n",
       "      <td>99.0</td>\n",
       "    </tr>\n",
       "    <tr>\n",
       "      <th>12</th>\n",
       "      <td>9072592034</td>\n",
       "      <td>Grujo,Sanja</td>\n",
       "      <td>10</td>\n",
       "      <td>10</td>\n",
       "      <td>10</td>\n",
       "      <td>99.5</td>\n",
       "    </tr>\n",
       "    <tr>\n",
       "      <th>13</th>\n",
       "      <td>9071901210</td>\n",
       "      <td>Hauge,Tyler</td>\n",
       "      <td>10</td>\n",
       "      <td>4</td>\n",
       "      <td>10</td>\n",
       "      <td>129.0</td>\n",
       "    </tr>\n",
       "    <tr>\n",
       "      <th>14</th>\n",
       "      <td>9072093298</td>\n",
       "      <td>Hepp,Nicole</td>\n",
       "      <td>10</td>\n",
       "      <td>10</td>\n",
       "      <td>10</td>\n",
       "      <td>128.0</td>\n",
       "    </tr>\n",
       "    <tr>\n",
       "      <th>15</th>\n",
       "      <td>9073426810</td>\n",
       "      <td>Hilkert,Eric</td>\n",
       "      <td>10</td>\n",
       "      <td>10</td>\n",
       "      <td>10</td>\n",
       "      <td>109.5</td>\n",
       "    </tr>\n",
       "    <tr>\n",
       "      <th>16</th>\n",
       "      <td>9070808531</td>\n",
       "      <td>Kuether,Laine</td>\n",
       "      <td>10</td>\n",
       "      <td>4</td>\n",
       "      <td>10</td>\n",
       "      <td>103.0</td>\n",
       "    </tr>\n",
       "    <tr>\n",
       "      <th>17</th>\n",
       "      <td>9071751672</td>\n",
       "      <td>Levy,Matthew Adam</td>\n",
       "      <td>10</td>\n",
       "      <td>4</td>\n",
       "      <td>10</td>\n",
       "      <td>113.5</td>\n",
       "    </tr>\n",
       "    <tr>\n",
       "      <th>18</th>\n",
       "      <td>9071350707</td>\n",
       "      <td>Longo,Madeline Claire</td>\n",
       "      <td>10</td>\n",
       "      <td>7</td>\n",
       "      <td>10</td>\n",
       "      <td>100.0</td>\n",
       "    </tr>\n",
       "    <tr>\n",
       "      <th>19</th>\n",
       "      <td>9071903182</td>\n",
       "      <td>Mazzara,Jordan Wilke</td>\n",
       "      <td>10</td>\n",
       "      <td>10</td>\n",
       "      <td>10</td>\n",
       "      <td>66.0</td>\n",
       "    </tr>\n",
       "    <tr>\n",
       "      <th>20</th>\n",
       "      <td>9071445259</td>\n",
       "      <td>Millard,Joey</td>\n",
       "      <td>10</td>\n",
       "      <td>4</td>\n",
       "      <td>10</td>\n",
       "      <td>106.5</td>\n",
       "    </tr>\n",
       "    <tr>\n",
       "      <th>21</th>\n",
       "      <td>9072604060</td>\n",
       "      <td>Nichol,Mark Kevin</td>\n",
       "      <td>8</td>\n",
       "      <td>4</td>\n",
       "      <td>10</td>\n",
       "      <td>140.0</td>\n",
       "    </tr>\n",
       "    <tr>\n",
       "      <th>22</th>\n",
       "      <td>9071374996</td>\n",
       "      <td>Nicholson,Calvin</td>\n",
       "      <td>8</td>\n",
       "      <td>5</td>\n",
       "      <td>10</td>\n",
       "      <td>131.5</td>\n",
       "    </tr>\n",
       "    <tr>\n",
       "      <th>23</th>\n",
       "      <td>9070397238</td>\n",
       "      <td>Nickels,Benjamin</td>\n",
       "      <td>6</td>\n",
       "      <td>10</td>\n",
       "      <td>5</td>\n",
       "      <td>100.0</td>\n",
       "    </tr>\n",
       "    <tr>\n",
       "      <th>24</th>\n",
       "      <td>9079190642</td>\n",
       "      <td>Qian,Chaoyang</td>\n",
       "      <td>10</td>\n",
       "      <td>7</td>\n",
       "      <td>6</td>\n",
       "      <td>130.0</td>\n",
       "    </tr>\n",
       "    <tr>\n",
       "      <th>25</th>\n",
       "      <td>9073718547</td>\n",
       "      <td>Reines,Maxwell</td>\n",
       "      <td>7</td>\n",
       "      <td>10</td>\n",
       "      <td>10</td>\n",
       "      <td>102.0</td>\n",
       "    </tr>\n",
       "    <tr>\n",
       "      <th>26</th>\n",
       "      <td>9078285468</td>\n",
       "      <td>Ros Callejo,Myriam</td>\n",
       "      <td>8</td>\n",
       "      <td>5</td>\n",
       "      <td>10</td>\n",
       "      <td>117.0</td>\n",
       "    </tr>\n",
       "    <tr>\n",
       "      <th>27</th>\n",
       "      <td>9078207603</td>\n",
       "      <td>Sabin Ulloa,Carlos</td>\n",
       "      <td>10</td>\n",
       "      <td>5</td>\n",
       "      <td>10</td>\n",
       "      <td>112.0</td>\n",
       "    </tr>\n",
       "    <tr>\n",
       "      <th>28</th>\n",
       "      <td>9071461926</td>\n",
       "      <td>Sauer,Mitchell</td>\n",
       "      <td>10</td>\n",
       "      <td>10</td>\n",
       "      <td>6</td>\n",
       "      <td>141.5</td>\n",
       "    </tr>\n",
       "    <tr>\n",
       "      <th>29</th>\n",
       "      <td>9072605414</td>\n",
       "      <td>Stocking,Ryan</td>\n",
       "      <td>10</td>\n",
       "      <td>6</td>\n",
       "      <td>10</td>\n",
       "      <td>110.0</td>\n",
       "    </tr>\n",
       "    <tr>\n",
       "      <th>30</th>\n",
       "      <td>9071441308</td>\n",
       "      <td>Stuber,Lauren</td>\n",
       "      <td>10</td>\n",
       "      <td>10</td>\n",
       "      <td>10</td>\n",
       "      <td>100.5</td>\n",
       "    </tr>\n",
       "    <tr>\n",
       "      <th>31</th>\n",
       "      <td>9070893319</td>\n",
       "      <td>Tracey,Miles</td>\n",
       "      <td>9</td>\n",
       "      <td>6</td>\n",
       "      <td>10</td>\n",
       "      <td>92.0</td>\n",
       "    </tr>\n",
       "    <tr>\n",
       "      <th>32</th>\n",
       "      <td>9069945435</td>\n",
       "      <td>Vandenack,Brett</td>\n",
       "      <td>10</td>\n",
       "      <td>4</td>\n",
       "      <td>6</td>\n",
       "      <td>117.0</td>\n",
       "    </tr>\n",
       "  </tbody>\n",
       "</table>\n",
       "</div>"
      ],
      "text/plain": [
       "      CampusID                      Name  Quiz1  Quiz2  Quiz3  Midterm\n",
       "0   9071571039           Aronson,Zachary     10     10     10    115.0\n",
       "1   9069931419            Austin,Patrick      8      3     10    112.0\n",
       "2   9074004962            Bachman,Connor     10     10     10    140.0\n",
       "3   9071159421             Baker,Kathryn     10     10     10     96.0\n",
       "4   9071159645    Bergevain,Clay Gregory      6     10      6    109.5\n",
       "5   9072568562               Blanch,Matt     10     10     10    118.0\n",
       "6   9071753595           Bouse,Bridgette      6      5     10    145.0\n",
       "7   9071525589           Bruckschen,Eric     10      2      6    122.5\n",
       "8   9070752069               Case,Philip      8      3      6    100.5\n",
       "9   9072600449              Coghlan,Erin     10     10     10    124.0\n",
       "10  9078297877  Donsimoni,Laetitia Marie      9     10     10     88.5\n",
       "11  9070798021         Garrison,Madeline     10      7     10     99.0\n",
       "12  9072592034               Grujo,Sanja     10     10     10     99.5\n",
       "13  9071901210               Hauge,Tyler     10      4     10    129.0\n",
       "14  9072093298               Hepp,Nicole     10     10     10    128.0\n",
       "15  9073426810              Hilkert,Eric     10     10     10    109.5\n",
       "16  9070808531             Kuether,Laine     10      4     10    103.0\n",
       "17  9071751672         Levy,Matthew Adam     10      4     10    113.5\n",
       "18  9071350707     Longo,Madeline Claire     10      7     10    100.0\n",
       "19  9071903182      Mazzara,Jordan Wilke     10     10     10     66.0\n",
       "20  9071445259              Millard,Joey     10      4     10    106.5\n",
       "21  9072604060         Nichol,Mark Kevin      8      4     10    140.0\n",
       "22  9071374996          Nicholson,Calvin      8      5     10    131.5\n",
       "23  9070397238          Nickels,Benjamin      6     10      5    100.0\n",
       "24  9079190642             Qian,Chaoyang     10      7      6    130.0\n",
       "25  9073718547            Reines,Maxwell      7     10     10    102.0\n",
       "26  9078285468        Ros Callejo,Myriam      8      5     10    117.0\n",
       "27  9078207603        Sabin Ulloa,Carlos     10      5     10    112.0\n",
       "28  9071461926            Sauer,Mitchell     10     10      6    141.5\n",
       "29  9072605414             Stocking,Ryan     10      6     10    110.0\n",
       "30  9071441308             Stuber,Lauren     10     10     10    100.5\n",
       "31  9070893319              Tracey,Miles      9      6     10     92.0\n",
       "32  9069945435           Vandenack,Brett     10      4      6    117.0"
      ]
     },
     "execution_count": 10,
     "metadata": {},
     "output_type": "execute_result"
    }
   ],
   "source": [
    "edu2"
   ]
  },
  {
   "cell_type": "code",
   "execution_count": 11,
   "metadata": {
    "collapsed": false
   },
   "outputs": [
    {
     "data": {
      "text/html": [
       "<div>\n",
       "<table border=\"1\" class=\"dataframe\">\n",
       "  <thead>\n",
       "    <tr style=\"text-align: right;\">\n",
       "      <th></th>\n",
       "      <th>CampusID</th>\n",
       "      <th>Quiz1</th>\n",
       "      <th>Quiz2</th>\n",
       "      <th>Quiz3</th>\n",
       "      <th>Midterm</th>\n",
       "    </tr>\n",
       "  </thead>\n",
       "  <tbody>\n",
       "    <tr>\n",
       "      <th>count</th>\n",
       "      <td>3.300000e+01</td>\n",
       "      <td>33.000000</td>\n",
       "      <td>33.000000</td>\n",
       "      <td>33.000000</td>\n",
       "      <td>33.000000</td>\n",
       "    </tr>\n",
       "    <tr>\n",
       "      <th>mean</th>\n",
       "      <td>9.072531e+09</td>\n",
       "      <td>9.181818</td>\n",
       "      <td>7.121212</td>\n",
       "      <td>9.121212</td>\n",
       "      <td>112.681818</td>\n",
       "    </tr>\n",
       "    <tr>\n",
       "      <th>std</th>\n",
       "      <td>2.444964e+06</td>\n",
       "      <td>1.333570</td>\n",
       "      <td>2.869643</td>\n",
       "      <td>1.727671</td>\n",
       "      <td>17.268477</td>\n",
       "    </tr>\n",
       "    <tr>\n",
       "      <th>min</th>\n",
       "      <td>9.069931e+09</td>\n",
       "      <td>6.000000</td>\n",
       "      <td>2.000000</td>\n",
       "      <td>5.000000</td>\n",
       "      <td>66.000000</td>\n",
       "    </tr>\n",
       "    <tr>\n",
       "      <th>25%</th>\n",
       "      <td>9.071160e+09</td>\n",
       "      <td>8.000000</td>\n",
       "      <td>4.000000</td>\n",
       "      <td>10.000000</td>\n",
       "      <td>100.500000</td>\n",
       "    </tr>\n",
       "    <tr>\n",
       "      <th>50%</th>\n",
       "      <td>9.071752e+09</td>\n",
       "      <td>10.000000</td>\n",
       "      <td>7.000000</td>\n",
       "      <td>10.000000</td>\n",
       "      <td>112.000000</td>\n",
       "    </tr>\n",
       "    <tr>\n",
       "      <th>75%</th>\n",
       "      <td>9.072604e+09</td>\n",
       "      <td>10.000000</td>\n",
       "      <td>10.000000</td>\n",
       "      <td>10.000000</td>\n",
       "      <td>124.000000</td>\n",
       "    </tr>\n",
       "    <tr>\n",
       "      <th>max</th>\n",
       "      <td>9.079191e+09</td>\n",
       "      <td>10.000000</td>\n",
       "      <td>10.000000</td>\n",
       "      <td>10.000000</td>\n",
       "      <td>145.000000</td>\n",
       "    </tr>\n",
       "  </tbody>\n",
       "</table>\n",
       "</div>"
      ],
      "text/plain": [
       "           CampusID      Quiz1      Quiz2      Quiz3     Midterm\n",
       "count  3.300000e+01  33.000000  33.000000  33.000000   33.000000\n",
       "mean   9.072531e+09   9.181818   7.121212   9.121212  112.681818\n",
       "std    2.444964e+06   1.333570   2.869643   1.727671   17.268477\n",
       "min    9.069931e+09   6.000000   2.000000   5.000000   66.000000\n",
       "25%    9.071160e+09   8.000000   4.000000  10.000000  100.500000\n",
       "50%    9.071752e+09  10.000000   7.000000  10.000000  112.000000\n",
       "75%    9.072604e+09  10.000000  10.000000  10.000000  124.000000\n",
       "max    9.079191e+09  10.000000  10.000000  10.000000  145.000000"
      ]
     },
     "execution_count": 11,
     "metadata": {},
     "output_type": "execute_result"
    }
   ],
   "source": [
    "edu2.describe()"
   ]
  },
  {
   "cell_type": "code",
   "execution_count": 12,
   "metadata": {
    "collapsed": false
   },
   "outputs": [
    {
     "data": {
      "text/plain": [
       "count     33.000000\n",
       "mean     112.681818\n",
       "std       17.268477\n",
       "min       66.000000\n",
       "25%      100.500000\n",
       "50%      112.000000\n",
       "75%      124.000000\n",
       "max      145.000000\n",
       "Name: Midterm, dtype: float64"
      ]
     },
     "execution_count": 12,
     "metadata": {},
     "output_type": "execute_result"
    }
   ],
   "source": [
    "edu2['Midterm'].describe()"
   ]
  },
  {
   "cell_type": "code",
   "execution_count": 13,
   "metadata": {
    "collapsed": false
   },
   "outputs": [],
   "source": [
    "edu2.at[11, 'Midterm'] = 105"
   ]
  },
  {
   "cell_type": "code",
   "execution_count": 14,
   "metadata": {
    "collapsed": false
   },
   "outputs": [
    {
     "data": {
      "text/plain": [
       "count     33.000000\n",
       "mean     112.863636\n",
       "std       17.151108\n",
       "min       66.000000\n",
       "25%      100.500000\n",
       "50%      112.000000\n",
       "75%      124.000000\n",
       "max      145.000000\n",
       "Name: Midterm, dtype: float64"
      ]
     },
     "execution_count": 14,
     "metadata": {},
     "output_type": "execute_result"
    }
   ],
   "source": [
    "edu2['Midterm'].describe()"
   ]
  },
  {
   "cell_type": "code",
   "execution_count": 15,
   "metadata": {
    "collapsed": false
   },
   "outputs": [
    {
     "data": {
      "text/html": [
       "<div>\n",
       "<table border=\"1\" class=\"dataframe\">\n",
       "  <thead>\n",
       "    <tr style=\"text-align: right;\">\n",
       "      <th></th>\n",
       "      <th>CampusID</th>\n",
       "      <th>Name</th>\n",
       "      <th>Quiz1</th>\n",
       "      <th>Quiz2</th>\n",
       "      <th>Quiz3</th>\n",
       "      <th>Midterm</th>\n",
       "    </tr>\n",
       "  </thead>\n",
       "  <tbody>\n",
       "    <tr>\n",
       "      <th>0</th>\n",
       "      <td>9071571039</td>\n",
       "      <td>Aronson,Zachary</td>\n",
       "      <td>10</td>\n",
       "      <td>10</td>\n",
       "      <td>10</td>\n",
       "      <td>115.0</td>\n",
       "    </tr>\n",
       "    <tr>\n",
       "      <th>1</th>\n",
       "      <td>9069931419</td>\n",
       "      <td>Austin,Patrick</td>\n",
       "      <td>8</td>\n",
       "      <td>3</td>\n",
       "      <td>10</td>\n",
       "      <td>112.0</td>\n",
       "    </tr>\n",
       "    <tr>\n",
       "      <th>2</th>\n",
       "      <td>9074004962</td>\n",
       "      <td>Bachman,Connor</td>\n",
       "      <td>10</td>\n",
       "      <td>10</td>\n",
       "      <td>10</td>\n",
       "      <td>140.0</td>\n",
       "    </tr>\n",
       "    <tr>\n",
       "      <th>3</th>\n",
       "      <td>9071159421</td>\n",
       "      <td>Baker,Kathryn</td>\n",
       "      <td>10</td>\n",
       "      <td>10</td>\n",
       "      <td>10</td>\n",
       "      <td>96.0</td>\n",
       "    </tr>\n",
       "    <tr>\n",
       "      <th>4</th>\n",
       "      <td>9071159645</td>\n",
       "      <td>Bergevain,Clay Gregory</td>\n",
       "      <td>6</td>\n",
       "      <td>10</td>\n",
       "      <td>6</td>\n",
       "      <td>109.5</td>\n",
       "    </tr>\n",
       "    <tr>\n",
       "      <th>5</th>\n",
       "      <td>9072568562</td>\n",
       "      <td>Blanch,Matt</td>\n",
       "      <td>10</td>\n",
       "      <td>10</td>\n",
       "      <td>10</td>\n",
       "      <td>118.0</td>\n",
       "    </tr>\n",
       "    <tr>\n",
       "      <th>6</th>\n",
       "      <td>9071753595</td>\n",
       "      <td>Bouse,Bridgette</td>\n",
       "      <td>6</td>\n",
       "      <td>5</td>\n",
       "      <td>10</td>\n",
       "      <td>145.0</td>\n",
       "    </tr>\n",
       "    <tr>\n",
       "      <th>7</th>\n",
       "      <td>9071525589</td>\n",
       "      <td>Bruckschen,Eric</td>\n",
       "      <td>10</td>\n",
       "      <td>2</td>\n",
       "      <td>6</td>\n",
       "      <td>122.5</td>\n",
       "    </tr>\n",
       "    <tr>\n",
       "      <th>8</th>\n",
       "      <td>9070752069</td>\n",
       "      <td>Case,Philip</td>\n",
       "      <td>8</td>\n",
       "      <td>3</td>\n",
       "      <td>6</td>\n",
       "      <td>100.5</td>\n",
       "    </tr>\n",
       "    <tr>\n",
       "      <th>9</th>\n",
       "      <td>9072600449</td>\n",
       "      <td>Coghlan,Erin</td>\n",
       "      <td>10</td>\n",
       "      <td>10</td>\n",
       "      <td>10</td>\n",
       "      <td>124.0</td>\n",
       "    </tr>\n",
       "    <tr>\n",
       "      <th>10</th>\n",
       "      <td>9078297877</td>\n",
       "      <td>Donsimoni,Laetitia Marie</td>\n",
       "      <td>9</td>\n",
       "      <td>10</td>\n",
       "      <td>10</td>\n",
       "      <td>88.5</td>\n",
       "    </tr>\n",
       "    <tr>\n",
       "      <th>11</th>\n",
       "      <td>9070798021</td>\n",
       "      <td>Garrison,Madeline</td>\n",
       "      <td>10</td>\n",
       "      <td>7</td>\n",
       "      <td>10</td>\n",
       "      <td>105.0</td>\n",
       "    </tr>\n",
       "    <tr>\n",
       "      <th>12</th>\n",
       "      <td>9072592034</td>\n",
       "      <td>Grujo,Sanja</td>\n",
       "      <td>10</td>\n",
       "      <td>10</td>\n",
       "      <td>10</td>\n",
       "      <td>99.5</td>\n",
       "    </tr>\n",
       "    <tr>\n",
       "      <th>13</th>\n",
       "      <td>9071901210</td>\n",
       "      <td>Hauge,Tyler</td>\n",
       "      <td>10</td>\n",
       "      <td>4</td>\n",
       "      <td>10</td>\n",
       "      <td>129.0</td>\n",
       "    </tr>\n",
       "    <tr>\n",
       "      <th>14</th>\n",
       "      <td>9072093298</td>\n",
       "      <td>Hepp,Nicole</td>\n",
       "      <td>10</td>\n",
       "      <td>10</td>\n",
       "      <td>10</td>\n",
       "      <td>128.0</td>\n",
       "    </tr>\n",
       "    <tr>\n",
       "      <th>15</th>\n",
       "      <td>9073426810</td>\n",
       "      <td>Hilkert,Eric</td>\n",
       "      <td>10</td>\n",
       "      <td>10</td>\n",
       "      <td>10</td>\n",
       "      <td>109.5</td>\n",
       "    </tr>\n",
       "    <tr>\n",
       "      <th>16</th>\n",
       "      <td>9070808531</td>\n",
       "      <td>Kuether,Laine</td>\n",
       "      <td>10</td>\n",
       "      <td>4</td>\n",
       "      <td>10</td>\n",
       "      <td>103.0</td>\n",
       "    </tr>\n",
       "    <tr>\n",
       "      <th>17</th>\n",
       "      <td>9071751672</td>\n",
       "      <td>Levy,Matthew Adam</td>\n",
       "      <td>10</td>\n",
       "      <td>4</td>\n",
       "      <td>10</td>\n",
       "      <td>113.5</td>\n",
       "    </tr>\n",
       "    <tr>\n",
       "      <th>18</th>\n",
       "      <td>9071350707</td>\n",
       "      <td>Longo,Madeline Claire</td>\n",
       "      <td>10</td>\n",
       "      <td>7</td>\n",
       "      <td>10</td>\n",
       "      <td>100.0</td>\n",
       "    </tr>\n",
       "    <tr>\n",
       "      <th>19</th>\n",
       "      <td>9071903182</td>\n",
       "      <td>Mazzara,Jordan Wilke</td>\n",
       "      <td>10</td>\n",
       "      <td>10</td>\n",
       "      <td>10</td>\n",
       "      <td>66.0</td>\n",
       "    </tr>\n",
       "    <tr>\n",
       "      <th>20</th>\n",
       "      <td>9071445259</td>\n",
       "      <td>Millard,Joey</td>\n",
       "      <td>10</td>\n",
       "      <td>4</td>\n",
       "      <td>10</td>\n",
       "      <td>106.5</td>\n",
       "    </tr>\n",
       "    <tr>\n",
       "      <th>21</th>\n",
       "      <td>9072604060</td>\n",
       "      <td>Nichol,Mark Kevin</td>\n",
       "      <td>8</td>\n",
       "      <td>4</td>\n",
       "      <td>10</td>\n",
       "      <td>140.0</td>\n",
       "    </tr>\n",
       "    <tr>\n",
       "      <th>22</th>\n",
       "      <td>9071374996</td>\n",
       "      <td>Nicholson,Calvin</td>\n",
       "      <td>8</td>\n",
       "      <td>5</td>\n",
       "      <td>10</td>\n",
       "      <td>131.5</td>\n",
       "    </tr>\n",
       "    <tr>\n",
       "      <th>23</th>\n",
       "      <td>9070397238</td>\n",
       "      <td>Nickels,Benjamin</td>\n",
       "      <td>6</td>\n",
       "      <td>10</td>\n",
       "      <td>5</td>\n",
       "      <td>100.0</td>\n",
       "    </tr>\n",
       "    <tr>\n",
       "      <th>24</th>\n",
       "      <td>9079190642</td>\n",
       "      <td>Qian,Chaoyang</td>\n",
       "      <td>10</td>\n",
       "      <td>7</td>\n",
       "      <td>6</td>\n",
       "      <td>130.0</td>\n",
       "    </tr>\n",
       "    <tr>\n",
       "      <th>25</th>\n",
       "      <td>9073718547</td>\n",
       "      <td>Reines,Maxwell</td>\n",
       "      <td>7</td>\n",
       "      <td>10</td>\n",
       "      <td>10</td>\n",
       "      <td>102.0</td>\n",
       "    </tr>\n",
       "    <tr>\n",
       "      <th>26</th>\n",
       "      <td>9078285468</td>\n",
       "      <td>Ros Callejo,Myriam</td>\n",
       "      <td>8</td>\n",
       "      <td>5</td>\n",
       "      <td>10</td>\n",
       "      <td>117.0</td>\n",
       "    </tr>\n",
       "    <tr>\n",
       "      <th>27</th>\n",
       "      <td>9078207603</td>\n",
       "      <td>Sabin Ulloa,Carlos</td>\n",
       "      <td>10</td>\n",
       "      <td>5</td>\n",
       "      <td>10</td>\n",
       "      <td>112.0</td>\n",
       "    </tr>\n",
       "    <tr>\n",
       "      <th>28</th>\n",
       "      <td>9071461926</td>\n",
       "      <td>Sauer,Mitchell</td>\n",
       "      <td>10</td>\n",
       "      <td>10</td>\n",
       "      <td>6</td>\n",
       "      <td>141.5</td>\n",
       "    </tr>\n",
       "    <tr>\n",
       "      <th>29</th>\n",
       "      <td>9072605414</td>\n",
       "      <td>Stocking,Ryan</td>\n",
       "      <td>10</td>\n",
       "      <td>6</td>\n",
       "      <td>10</td>\n",
       "      <td>110.0</td>\n",
       "    </tr>\n",
       "    <tr>\n",
       "      <th>30</th>\n",
       "      <td>9071441308</td>\n",
       "      <td>Stuber,Lauren</td>\n",
       "      <td>10</td>\n",
       "      <td>10</td>\n",
       "      <td>10</td>\n",
       "      <td>100.5</td>\n",
       "    </tr>\n",
       "    <tr>\n",
       "      <th>31</th>\n",
       "      <td>9070893319</td>\n",
       "      <td>Tracey,Miles</td>\n",
       "      <td>9</td>\n",
       "      <td>6</td>\n",
       "      <td>10</td>\n",
       "      <td>92.0</td>\n",
       "    </tr>\n",
       "    <tr>\n",
       "      <th>32</th>\n",
       "      <td>9069945435</td>\n",
       "      <td>Vandenack,Brett</td>\n",
       "      <td>10</td>\n",
       "      <td>4</td>\n",
       "      <td>6</td>\n",
       "      <td>117.0</td>\n",
       "    </tr>\n",
       "  </tbody>\n",
       "</table>\n",
       "</div>"
      ],
      "text/plain": [
       "      CampusID                      Name  Quiz1  Quiz2  Quiz3  Midterm\n",
       "0   9071571039           Aronson,Zachary     10     10     10    115.0\n",
       "1   9069931419            Austin,Patrick      8      3     10    112.0\n",
       "2   9074004962            Bachman,Connor     10     10     10    140.0\n",
       "3   9071159421             Baker,Kathryn     10     10     10     96.0\n",
       "4   9071159645    Bergevain,Clay Gregory      6     10      6    109.5\n",
       "5   9072568562               Blanch,Matt     10     10     10    118.0\n",
       "6   9071753595           Bouse,Bridgette      6      5     10    145.0\n",
       "7   9071525589           Bruckschen,Eric     10      2      6    122.5\n",
       "8   9070752069               Case,Philip      8      3      6    100.5\n",
       "9   9072600449              Coghlan,Erin     10     10     10    124.0\n",
       "10  9078297877  Donsimoni,Laetitia Marie      9     10     10     88.5\n",
       "11  9070798021         Garrison,Madeline     10      7     10    105.0\n",
       "12  9072592034               Grujo,Sanja     10     10     10     99.5\n",
       "13  9071901210               Hauge,Tyler     10      4     10    129.0\n",
       "14  9072093298               Hepp,Nicole     10     10     10    128.0\n",
       "15  9073426810              Hilkert,Eric     10     10     10    109.5\n",
       "16  9070808531             Kuether,Laine     10      4     10    103.0\n",
       "17  9071751672         Levy,Matthew Adam     10      4     10    113.5\n",
       "18  9071350707     Longo,Madeline Claire     10      7     10    100.0\n",
       "19  9071903182      Mazzara,Jordan Wilke     10     10     10     66.0\n",
       "20  9071445259              Millard,Joey     10      4     10    106.5\n",
       "21  9072604060         Nichol,Mark Kevin      8      4     10    140.0\n",
       "22  9071374996          Nicholson,Calvin      8      5     10    131.5\n",
       "23  9070397238          Nickels,Benjamin      6     10      5    100.0\n",
       "24  9079190642             Qian,Chaoyang     10      7      6    130.0\n",
       "25  9073718547            Reines,Maxwell      7     10     10    102.0\n",
       "26  9078285468        Ros Callejo,Myriam      8      5     10    117.0\n",
       "27  9078207603        Sabin Ulloa,Carlos     10      5     10    112.0\n",
       "28  9071461926            Sauer,Mitchell     10     10      6    141.5\n",
       "29  9072605414             Stocking,Ryan     10      6     10    110.0\n",
       "30  9071441308             Stuber,Lauren     10     10     10    100.5\n",
       "31  9070893319              Tracey,Miles      9      6     10     92.0\n",
       "32  9069945435           Vandenack,Brett     10      4      6    117.0"
      ]
     },
     "execution_count": 15,
     "metadata": {},
     "output_type": "execute_result"
    }
   ],
   "source": [
    "edu2"
   ]
  },
  {
   "cell_type": "code",
   "execution_count": 16,
   "metadata": {
    "collapsed": false
   },
   "outputs": [
    {
     "data": {
      "text/plain": [
       "0     False\n",
       "1     False\n",
       "2      True\n",
       "3     False\n",
       "4     False\n",
       "5     False\n",
       "6      True\n",
       "7     False\n",
       "8     False\n",
       "9     False\n",
       "10    False\n",
       "11    False\n",
       "12    False\n",
       "13     True\n",
       "14     True\n",
       "15    False\n",
       "16    False\n",
       "17    False\n",
       "18    False\n",
       "19    False\n",
       "20    False\n",
       "21     True\n",
       "22     True\n",
       "23    False\n",
       "24     True\n",
       "25    False\n",
       "26    False\n",
       "27    False\n",
       "28     True\n",
       "29    False\n",
       "30    False\n",
       "31    False\n",
       "32    False\n",
       "Name: Midterm, dtype: bool"
      ]
     },
     "execution_count": 16,
     "metadata": {},
     "output_type": "execute_result"
    }
   ],
   "source": [
    "edu['Midterm'] >= 125"
   ]
  },
  {
   "cell_type": "code",
   "execution_count": null,
   "metadata": {
    "collapsed": true
   },
   "outputs": [],
   "source": []
  },
  {
   "cell_type": "code",
   "execution_count": null,
   "metadata": {
    "collapsed": true
   },
   "outputs": [],
   "source": []
  }
 ],
 "metadata": {
  "kernelspec": {
   "display_name": "Python 2",
   "language": "python",
   "name": "python2"
  },
  "language_info": {
   "codemirror_mode": {
    "name": "ipython",
    "version": 2
   },
   "file_extension": ".py",
   "mimetype": "text/x-python",
   "name": "python",
   "nbconvert_exporter": "python",
   "pygments_lexer": "ipython2",
   "version": "2.7.13"
  }
 },
 "nbformat": 4,
 "nbformat_minor": 0
}
