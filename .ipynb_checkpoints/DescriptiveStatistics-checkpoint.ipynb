{
 "cells": [
  {
   "cell_type": "code",
   "execution_count": 1,
   "metadata": {
    "collapsed": false
   },
   "outputs": [],
   "source": [
    "import pandas as pd\n",
    "import numpy as np\n",
    "import matplotlib.pyplot as plt"
   ]
  },
  {
   "cell_type": "code",
   "execution_count": 2,
   "metadata": {
    "collapsed": false
   },
   "outputs": [
    {
     "data": {
      "text/plain": [
       "{'draws': [6, 7, 4, 5, 4, 7, 8, 10, 8],\n",
       " 'losses': [2, 3, 2, 4, 2, 5, 9, 11, 11],\n",
       " 'team': ['FCBarcelona',\n",
       "  'FCBarcelona',\n",
       "  'FCBarcelona',\n",
       "  'RMadrid',\n",
       "  'RMadrid',\n",
       "  'RMadrid',\n",
       "  'ValenciaCF',\n",
       "  'ValenciaCF',\n",
       "  'ValenciaCF'],\n",
       " 'wins': [30, 28, 32, 29, 32, 26, 21, 17, 19],\n",
       " 'year': [2010, 2011, 2012, 2010, 2011, 2012, 2010, 2011, 2012]}"
      ]
     },
     "execution_count": 2,
     "metadata": {},
     "output_type": "execute_result"
    }
   ],
   "source": [
    "data = {'year': [\n",
    "        2010, 2011, 2012,\n",
    "        2010, 2011, 2012,\n",
    "        2010, 2011, 2012\n",
    "    ],\n",
    "       'team': [\n",
    "        'FCBarcelona', 'FCBarcelona',\n",
    "        'FCBarcelona', 'RMadrid',\n",
    "        'RMadrid', 'RMadrid',\n",
    "        'ValenciaCF', 'ValenciaCF',\n",
    "        'ValenciaCF'\n",
    "    ],\n",
    "       'wins': [30, 28, 32, 29, 32, 26, 21, 17, 19],\n",
    "       'draws': [6, 7, 4, 5, 4, 7, 8, 10, 8],\n",
    "       'losses': [2, 3, 2, 4, 2, 5, 9, 11, 11]\n",
    "       }\n",
    "football = pd.DataFrame(data, columns = [\n",
    "        'year', 'team', 'wins', 'draws', 'losses'\n",
    "    ])\n",
    "data"
   ]
  },
  {
   "cell_type": "code",
   "execution_count": 6,
   "metadata": {
    "collapsed": false
   },
   "outputs": [
    {
     "ename": "SyntaxError",
     "evalue": "invalid character in identifier (<ipython-input-6-78aee905e2c3>, line 2)",
     "output_type": "error",
     "traceback": [
      "\u001b[0;36m  File \u001b[0;32m\"<ipython-input-6-78aee905e2c3>\"\u001b[0;36m, line \u001b[0;32m2\u001b[0m\n\u001b[0;31m    edu = pd.read_csv(’Data/educ_figdp_1_Data.csv’, na_values = ’:’,\u001b[0m\n\u001b[0m                          ^\u001b[0m\n\u001b[0;31mSyntaxError\u001b[0m\u001b[0;31m:\u001b[0m invalid character in identifier\n"
     ]
    }
   ],
   "source": [
    "# Data link: http://appsso.eurostat.ec.europa.eu/nui/show.do?dataset=educ_figdp&lang=en\n",
    "edu = pd.read_csv(’Data/educ_figdp_1_Data.csv’, na_values = ’:’,\n",
    "usecols = [\"TIME\",\"GEO\",\"Value\"])\n",
    "edu"
   ]
  },
  {
   "cell_type": "code",
   "execution_count": null,
   "metadata": {
    "collapsed": true
   },
   "outputs": [],
   "source": []
  },
  {
   "cell_type": "code",
   "execution_count": null,
   "metadata": {
    "collapsed": true
   },
   "outputs": [],
   "source": []
  }
 ],
 "metadata": {
  "anaconda-cloud": {},
  "kernelspec": {
   "display_name": "Python [default]",
   "language": "python",
   "name": "python3"
  },
  "language_info": {
   "codemirror_mode": {
    "name": "ipython",
    "version": 3
   },
   "file_extension": ".py",
   "mimetype": "text/x-python",
   "name": "python",
   "nbconvert_exporter": "python",
   "pygments_lexer": "ipython3",
   "version": "3.5.2"
  }
 },
 "nbformat": 4,
 "nbformat_minor": 1
}
