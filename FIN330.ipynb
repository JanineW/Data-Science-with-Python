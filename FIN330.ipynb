{
 "cells": [
  {
   "cell_type": "markdown",
   "metadata": {},
   "source": [
    "## Binominal Tree"
   ]
  },
  {
   "cell_type": "code",
   "execution_count": 95,
   "metadata": {
    "collapsed": false
   },
   "outputs": [],
   "source": [
    "import numpy as np\n",
    "import matplotlib.pyplot as plt"
   ]
  },
  {
   "cell_type": "code",
   "execution_count": 96,
   "metadata": {
    "collapsed": true
   },
   "outputs": [],
   "source": [
    "year=[2009,2010,2011,2012,2013]\n",
    "ret_A=[0.102,-0.02,0.213,0.12,0.13]\n",
    "ret_B=[0.1062,0.23,0.045,0.234,0.113]\n",
    "port_EW=(np.array(ret_A)+np.array(ret_B))/2."
   ]
  },
  {
   "cell_type": "code",
   "execution_count": 97,
   "metadata": {
    "collapsed": false
   },
   "outputs": [
    {
     "data": {
      "text/plain": [
       "<matplotlib.text.Text at 0x1143ea450>"
      ]
     },
     "execution_count": 97,
     "metadata": {},
     "output_type": "execute_result"
    }
   ],
   "source": [
    "plt.figtext(0.2,0.65,\"Stock A\")\n",
    "plt.figtext(0.15,0.4,\"Stock B\")"
   ]
  },
  {
   "cell_type": "code",
   "execution_count": 98,
   "metadata": {
    "collapsed": false
   },
   "outputs": [
    {
     "data": {
      "text/plain": [
       "<matplotlib.text.Text at 0x114425490>"
      ]
     },
     "execution_count": 98,
     "metadata": {},
     "output_type": "execute_result"
    }
   ],
   "source": [
    "plt.xlabel(\"Year\")\n",
    "plt.ylabel(\"Returns\")"
   ]
  },
  {
   "cell_type": "code",
   "execution_count": 99,
   "metadata": {
    "collapsed": false
   },
   "outputs": [
    {
     "data": {
      "text/plain": [
       "<matplotlib.text.Annotation at 0x10d933750>"
      ]
     },
     "execution_count": 99,
     "metadata": {},
     "output_type": "execute_result"
    }
   ],
   "source": [
    "plt.plot(year,ret_A,lw=2)\n",
    "plt.plot(year,ret_B,lw=2)\n",
    "plt.plot(year,port_EW,lw=2)\n",
    "plt.title(\"Individual stocks vs. an equal-weighted 2-stock portfolio\")\n",
    "plt.annotate('Equal-weighted Portfolio', xy=(2010, 0.1), xytext=(2011.,0),\n",
    "             arrowprops=dict(facecolor='black',shrink=0.05))"
   ]
  },
  {
   "cell_type": "code",
   "execution_count": null,
   "metadata": {
    "collapsed": true
   },
   "outputs": [],
   "source": [
    "plt.ylim(-0.1,0.3)\n",
    "plt.show()"
   ]
  },
  {
   "cell_type": "markdown",
   "metadata": {},
   "source": [
    "## Q11\n",
    "### Cox Russ Rubenstein Tree"
   ]
  },
  {
   "cell_type": "code",
   "execution_count": 7,
   "metadata": {
    "collapsed": true
   },
   "outputs": [],
   "source": [
    "import math"
   ]
  },
  {
   "cell_type": "code",
   "execution_count": 8,
   "metadata": {
    "collapsed": true
   },
   "outputs": [],
   "source": [
    "theta = 0.30\n",
    "r = 0.05\n",
    "dt = 1.00/52\n",
    "S0 = 120"
   ]
  },
  {
   "cell_type": "code",
   "execution_count": 9,
   "metadata": {
    "collapsed": false
   },
   "outputs": [],
   "source": [
    "mu = math.exp(theta*math.sqrt(dt))"
   ]
  },
  {
   "cell_type": "code",
   "execution_count": 10,
   "metadata": {
    "collapsed": false
   },
   "outputs": [
    {
     "data": {
      "text/plain": [
       "1.042480025918533"
      ]
     },
     "execution_count": 10,
     "metadata": {},
     "output_type": "execute_result"
    }
   ],
   "source": [
    "mu"
   ]
  },
  {
   "cell_type": "code",
   "execution_count": 11,
   "metadata": {
    "collapsed": false
   },
   "outputs": [],
   "source": [
    "d = 1/mu"
   ]
  },
  {
   "cell_type": "code",
   "execution_count": 12,
   "metadata": {
    "collapsed": false
   },
   "outputs": [
    {
     "data": {
      "text/plain": [
       "0.959250992956816"
      ]
     },
     "execution_count": 12,
     "metadata": {},
     "output_type": "execute_result"
    }
   ],
   "source": [
    "d"
   ]
  },
  {
   "cell_type": "code",
   "execution_count": 13,
   "metadata": {
    "collapsed": false
   },
   "outputs": [],
   "source": [
    "p = (math.exp(r*dt) - d)/(mu - d)"
   ]
  },
  {
   "cell_type": "code",
   "execution_count": 14,
   "metadata": {
    "collapsed": false
   },
   "outputs": [
    {
     "data": {
      "text/plain": [
       "0.5011593484477523"
      ]
     },
     "execution_count": 14,
     "metadata": {},
     "output_type": "execute_result"
    }
   ],
   "source": [
    "p"
   ]
  },
  {
   "cell_type": "code",
   "execution_count": 15,
   "metadata": {
    "collapsed": false
   },
   "outputs": [
    {
     "data": {
      "text/plain": [
       "0.5007452029789252"
      ]
     },
     "execution_count": 15,
     "metadata": {},
     "output_type": "execute_result"
    }
   ],
   "source": [
    "(math.exp(0.05*(1.00/52)) - 0.9593)/(1.0425 - 0.9593)"
   ]
  },
  {
   "cell_type": "code",
   "execution_count": 16,
   "metadata": {
    "collapsed": false
   },
   "outputs": [
    {
     "data": {
      "text/plain": [
       "130.157401872883"
      ]
     },
     "execution_count": 16,
     "metadata": {},
     "output_type": "execute_result"
    }
   ],
   "source": [
    "(125.098 - 120*(1-0.5019))/(0.5019)"
   ]
  },
  {
   "cell_type": "code",
   "execution_count": 17,
   "metadata": {
    "collapsed": false
   },
   "outputs": [
    {
     "data": {
      "text/plain": [
       "0.04166200088784655"
      ]
     },
     "execution_count": 17,
     "metadata": {},
     "output_type": "execute_result"
    }
   ],
   "source": [
    "math.exp(0.05*(1.00/52)) - 0.9593"
   ]
  },
  {
   "cell_type": "code",
   "execution_count": 18,
   "metadata": {
    "collapsed": false
   },
   "outputs": [
    {
     "data": {
      "text/plain": [
       "2266.9384397502013"
      ]
     },
     "execution_count": 18,
     "metadata": {},
     "output_type": "execute_result"
    }
   ],
   "source": [
    "2250*math.exp((0.05-0.02)*3/12)"
   ]
  },
  {
   "cell_type": "code",
   "execution_count": 19,
   "metadata": {
    "collapsed": true
   },
   "outputs": [],
   "source": [
    "Price1 = S0*(mu**2)"
   ]
  },
  {
   "cell_type": "code",
   "execution_count": 20,
   "metadata": {
    "collapsed": false
   },
   "outputs": [
    {
     "data": {
      "text/plain": [
       "130.41175253269262"
      ]
     },
     "execution_count": 20,
     "metadata": {},
     "output_type": "execute_result"
    }
   ],
   "source": [
    "Price1"
   ]
  },
  {
   "cell_type": "code",
   "execution_count": 21,
   "metadata": {
    "collapsed": true
   },
   "outputs": [],
   "source": [
    "Price1 = S0*(mu**2)"
   ]
  },
  {
   "cell_type": "code",
   "execution_count": 22,
   "metadata": {
    "collapsed": true
   },
   "outputs": [],
   "source": [
    "Price2 = S0*mu*d"
   ]
  },
  {
   "cell_type": "code",
   "execution_count": 23,
   "metadata": {
    "collapsed": false
   },
   "outputs": [
    {
     "data": {
      "text/plain": [
       "125.21794711548347"
      ]
     },
     "execution_count": 23,
     "metadata": {},
     "output_type": "execute_result"
    }
   ],
   "source": [
    "Price1*p + Price2*(1-p)"
   ]
  },
  {
   "cell_type": "code",
   "execution_count": 24,
   "metadata": {
    "collapsed": false
   },
   "outputs": [
    {
     "data": {
      "text/plain": [
       "125.09760311022394"
      ]
     },
     "execution_count": 24,
     "metadata": {},
     "output_type": "execute_result"
    }
   ],
   "source": [
    "(Price1*p + Price2*(1-p))*math.exp(-r*dt)"
   ]
  },
  {
   "cell_type": "code",
   "execution_count": 25,
   "metadata": {
    "collapsed": true
   },
   "outputs": [],
   "source": [
    "def binomial_grid(n):\n",
    "    import networkx as nx \n",
    "    import matplotlib.pyplot as plt \n",
    "    G=nx.Graph() \n",
    "    for i in range(0,n+1):     \n",
    "        for j in range(1,i+2):         \n",
    "            if i<n:             \n",
    "                G.add_edge((i,j),(i+1,j))\n",
    "                G.add_edge((i,j),(i+1,j+1)) \n",
    "    posG={}    #dictionary with nodes position \n",
    "    for node in G.nodes():     \n",
    "        posG[node]=(node[0],n+2+node[0]-2*node[1]) \n",
    "    nx.draw(G,pos=posG)    "
   ]
  },
  {
   "cell_type": "code",
   "execution_count": 26,
   "metadata": {
    "collapsed": true
   },
   "outputs": [],
   "source": [
    "s1 = 0*p + 3*(1-p)\n",
    "s2 = 3*p + 12.581*(1-p)"
   ]
  },
  {
   "cell_type": "code",
   "execution_count": 27,
   "metadata": {
    "collapsed": true
   },
   "outputs": [],
   "source": [
    "s0 = s1*p + s2*(1-p)"
   ]
  },
  {
   "cell_type": "code",
   "execution_count": 28,
   "metadata": {
    "collapsed": false
   },
   "outputs": [
    {
     "data": {
      "text/plain": [
       "4.630673082627374"
      ]
     },
     "execution_count": 28,
     "metadata": {},
     "output_type": "execute_result"
    }
   ],
   "source": [
    "s0"
   ]
  },
  {
   "cell_type": "markdown",
   "metadata": {},
   "source": [
    "## European Option"
   ]
  },
  {
   "cell_type": "markdown",
   "metadata": {},
   "source": [
    "### Q12"
   ]
  },
  {
   "cell_type": "code",
   "execution_count": 30,
   "metadata": {
    "collapsed": false
   },
   "outputs": [
    {
     "data": {
      "text/plain": [
       "7120.0"
      ]
     },
     "execution_count": 30,
     "metadata": {},
     "output_type": "execute_result"
    }
   ],
   "source": [
    "200000*1.78/50"
   ]
  },
  {
   "cell_type": "code",
   "execution_count": 31,
   "metadata": {
    "collapsed": false
   },
   "outputs": [
    {
     "data": {
      "text/plain": [
       "-3900.0"
      ]
     },
     "execution_count": 31,
     "metadata": {},
     "output_type": "execute_result"
    }
   ],
   "source": [
    "200000*(-.78)/40"
   ]
  },
  {
   "cell_type": "code",
   "execution_count": 32,
   "metadata": {
    "collapsed": false
   },
   "outputs": [
    {
     "data": {
      "text/plain": [
       "0.9990389236684376"
      ]
     },
     "execution_count": 32,
     "metadata": {},
     "output_type": "execute_result"
    }
   ],
   "source": [
    "math.exp(-0.05/52)"
   ]
  },
  {
   "cell_type": "markdown",
   "metadata": {},
   "source": [
    "## Black-Scholes"
   ]
  },
  {
   "cell_type": "code",
   "execution_count": 33,
   "metadata": {
    "collapsed": true
   },
   "outputs": [],
   "source": [
    "import numpy as np\n",
    "import scipy.stats as ss\n",
    "import time \n",
    "\n",
    "#Black and Scholes\n",
    "def d1(S0, K, r, sigma, T):\n",
    "    return (np.log(S0/K) + (r + sigma**2 / 2) * T)/(sigma * np.sqrt(T))\n",
    " \n",
    "def d2(S0, K, r, sigma, T):\n",
    "    return (np.log(S0 / K) + (r - sigma**2 / 2) * T) / (sigma * np.sqrt(T))\n",
    " \n",
    "def BlackScholes(type,S0, K, r, sigma, T):\n",
    "    if type==\"C\":\n",
    "        return S0 * ss.norm.cdf(d1(S0, K, r, sigma, T)) - K * np.exp(-r * T) * ss.norm.cdf(d2(S0, K, r, sigma, T))\n",
    "    else:\n",
    "        return K * np.exp(-r * T) * ss.norm.cdf(-d2(S0, K, r, sigma, T)) - S0 * ss.norm.cdf(-d1(S0, K, r, sigma, T))"
   ]
  },
  {
   "cell_type": "code",
   "execution_count": 59,
   "metadata": {
    "collapsed": false
   },
   "outputs": [
    {
     "name": "stdout",
     "output_type": "stream",
     "text": [
      "S0\tstock price at time 0: 120.0\n",
      "K\tstrike price: 123.0\n",
      "r\tcontinuously compounded risk-free rate: 0.05\n",
      "sigma\tvolatility of the stock price per year: 0.3\n",
      "T\ttime to maturity in trading years: 0.0384615384615\n",
      "d1 -0.357590268673\n",
      "fd1 0.360324980943\n",
      "d2 -0.416425109214\n",
      "fd2 0.338549478997\n",
      "c_BS\tBlack-Scholes price: 4.44110365226 0.000453948974609\n"
     ]
    }
   ],
   "source": [
    "S0 = 120.0\n",
    "K = 123.0\n",
    "r=0.05\n",
    "sigma = 0.30\n",
    "T = 2.0/52\n",
    "Otype='P'\n",
    "\n",
    "\n",
    "\n",
    "print \"S0\\tstock price at time 0:\", S0\n",
    "print \"K\\tstrike price:\", K\n",
    "print \"r\\tcontinuously compounded risk-free rate:\", r\n",
    "print \"sigma\\tvolatility of the stock price per year:\", sigma\n",
    "print \"T\\ttime to maturity in trading years:\", T\n",
    "\n",
    "print \"d1\", d1(S0, K, r, sigma, T)\n",
    "print \"fd1\", ss.norm.cdf(d1(S0, K, r, sigma, T))\n",
    "print \"d2\", d2(S0, K, r, sigma, T)\n",
    "print \"fd2\", ss.norm.cdf(d2(S0, K, r, sigma, T))\n",
    "\n",
    "\n",
    "t=time.time()\n",
    "c_BS = BlackScholes(Otype,S0, K, r, sigma, T)\n",
    "elapsed=time.time()-t\n",
    "print \"c_BS\\tBlack-Scholes price:\", c_BS, elapsed\n",
    "\n"
   ]
  },
  {
   "cell_type": "code",
   "execution_count": 44,
   "metadata": {
    "collapsed": false
   },
   "outputs": [
    {
     "name": "stdout",
     "output_type": "stream",
     "text": [
      "S0\tstock price at time 0: 120.0\n",
      "K\tstrike price: 123.0\n",
      "r\tcontinuously compounded risk-free rate: 0.05\n",
      "sigma\tvolatility of the stock price per year: 0.3\n",
      "T\ttime to maturity in trading years: 0.0192307692308\n",
      "d1 -0.549622773264\n",
      "fd1 0.291289067798\n",
      "d2 -0.591225287981\n",
      "fd2 0.27718474058\n",
      "c_BS\tBlack-Scholes price: 3.77551932596 0.00071120262146\n"
     ]
    }
   ],
   "source": [
    "S0 = 120.0\n",
    "K = 123.0\n",
    "r=0.05\n",
    "sigma = 0.30\n",
    "T = 1.0/52\n",
    "Otype='P'\n",
    "\n",
    "\n",
    "\n",
    "print \"S0\\tstock price at time 0:\", S0\n",
    "print \"K\\tstrike price:\", K\n",
    "print \"r\\tcontinuously compounded risk-free rate:\", r\n",
    "print \"sigma\\tvolatility of the stock price per year:\", sigma\n",
    "print \"T\\ttime to maturity in trading years:\", T\n",
    "\n",
    "print \"d1\", d1(S0, K, r, sigma, T)\n",
    "print \"fd1\", ss.norm.cdf(d1(S0, K, r, sigma, T))\n",
    "print \"d2\", d2(S0, K, r, sigma, T)\n",
    "print \"fd2\", ss.norm.cdf(d2(S0, K, r, sigma, T))\n",
    "\n",
    "\n",
    "t=time.time()\n",
    "c_BS = BlackScholes(Otype,S0, K, r, sigma, T)\n",
    "elapsed=time.time()-t\n",
    "print \"c_BS\\tBlack-Scholes price:\", c_BS, elapsed\n",
    "\n"
   ]
  },
  {
   "cell_type": "code",
   "execution_count": 52,
   "metadata": {
    "collapsed": false
   },
   "outputs": [],
   "source": [
    "a = ss.norm.cdf(-0.36)"
   ]
  },
  {
   "cell_type": "code",
   "execution_count": 53,
   "metadata": {
    "collapsed": true
   },
   "outputs": [],
   "source": [
    "b = ss.norm.cdf(-0.42)"
   ]
  },
  {
   "cell_type": "code",
   "execution_count": 55,
   "metadata": {
    "collapsed": false
   },
   "outputs": [
    {
     "data": {
      "text/plain": [
       "-1.7296668336597278"
      ]
     },
     "execution_count": 55,
     "metadata": {},
     "output_type": "execute_result"
    }
   ],
   "source": [
    "math.exp(-0.05/26)*123*b-120*a"
   ]
  },
  {
   "cell_type": "code",
   "execution_count": null,
   "metadata": {
    "collapsed": true
   },
   "outputs": [],
   "source": []
  },
  {
   "cell_type": "code",
   "execution_count": 48,
   "metadata": {
    "collapsed": false
   },
   "outputs": [
    {
     "data": {
      "text/plain": [
       "0.5055662757571878"
      ]
     },
     "execution_count": 48,
     "metadata": {},
     "output_type": "execute_result"
    }
   ],
   "source": [
    "(math.exp(0.05*(1.00/52)) - 0.959)/(1.042 - 0.959)"
   ]
  },
  {
   "cell_type": "code",
   "execution_count": null,
   "metadata": {
    "collapsed": true
   },
   "outputs": [],
   "source": []
  }
 ],
 "metadata": {
  "kernelspec": {
   "display_name": "Python 2",
   "language": "python",
   "name": "python2"
  },
  "language_info": {
   "codemirror_mode": {
    "name": "ipython",
    "version": 2
   },
   "file_extension": ".py",
   "mimetype": "text/x-python",
   "name": "python",
   "nbconvert_exporter": "python",
   "pygments_lexer": "ipython2",
   "version": "2.7.11"
  }
 },
 "nbformat": 4,
 "nbformat_minor": 0
}
